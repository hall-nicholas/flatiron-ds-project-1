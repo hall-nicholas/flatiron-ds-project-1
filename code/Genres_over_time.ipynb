{
 "cells": [
  {
   "cell_type": "code",
   "execution_count": 1,
   "metadata": {},
   "outputs": [],
   "source": [
    "import numpy as np\n",
    "import pandas as pd\n",
    "import matplotlib.pyplot as plt\n",
    "import scipy.stats as stats\n",
    "import sqlite3\n",
    "\n",
    "%matplotlib inline\n",
    "#bommovies dataframe this is bad data\n",
    "bom_movies_df = pd.read_csv('../data/bom.movie_gross.csv.gz')\n",
    "#imbd dataframe\n",
    "con = sqlite3.connect('../data/im.db') \n",
    "cursor = con.cursor()\n",
    "imdb_schema_df = pd.read_sql('''\n",
    "SELECT \n",
    "    *\n",
    "FROM\n",
    "    sqlite_master\n",
    "''', con)   \n",
    "#imdb directors df\n",
    "directors_df = pd.read_sql('''select * from directors''',con)\n",
    "#imdb writers df\n",
    "writers_df = pd.read_sql('''select * from writers''',con)\n",
    "#imdb know for df\n",
    "known_for_df = pd.read_sql('''select * from known_for''',con)\n",
    "#imdb principals df\n",
    "principals_df = pd.read_sql('''select * from principals''',con)\n",
    "#imdb persons df\n",
    "persons_df = pd.read_sql('''select * from persons''',con)\n",
    "#imdb movie basics df\n",
    "movie_basics_df = pd.read_sql('''select * from movie_basics''',con)\n",
    "#imdb movie ratings df\n",
    "movie_ratings_df = pd.read_sql('''select * from movie_ratings''',con)\n",
    "#imdb movie akas df\n",
    "movie_akas_df = pd.read_sql('''select * from movie_akas''',con)\n",
    "#rotten tomatoes movies df this is bad data\n",
    "rt_movies_df = pd.read_csv('../data/rt.movie_info.tsv.gz', \n",
    "                               sep='\\t') # sep='\\t' needs to be specified since is a .tsv file\n",
    "#rotten tomatoes reviews df this is bad data\n",
    "rt_reviews_df = pd.read_csv('../data/rt.reviews.tsv.gz', \n",
    "                                sep='\\t', # sep='\\t' needs to be specified since is a .tsv file\n",
    "                                encoding='unicode_escape') # using default utf-8 encoding ran into issues with this file\n",
    "# TheMovieDB movie information table\n",
    "tmdb_movies_df = pd.read_csv('../data/tmdb.movies.csv.gz')\n",
    "# The Numbers movie information table\n",
    "tn_movies_df = pd.read_csv('../data/tn.movie_budgets.csv.gz')"
   ]
  },
  {
   "cell_type": "code",
   "execution_count": 2,
   "metadata": {
    "scrolled": false
   },
   "outputs": [
    {
     "name": "stdout",
     "output_type": "stream",
     "text": [
      "<class 'pandas.core.frame.DataFrame'>\n",
      "RangeIndex: 5782 entries, 0 to 5781\n",
      "Data columns (total 6 columns):\n",
      " #   Column             Non-Null Count  Dtype \n",
      "---  ------             --------------  ----- \n",
      " 0   id                 5782 non-null   int64 \n",
      " 1   release_date       5782 non-null   object\n",
      " 2   movie              5782 non-null   object\n",
      " 3   production_budget  5782 non-null   object\n",
      " 4   domestic_gross     5782 non-null   object\n",
      " 5   worldwide_gross    5782 non-null   object\n",
      "dtypes: int64(1), object(5)\n",
      "memory usage: 271.2+ KB\n"
     ]
    }
   ],
   "source": [
    "tn_movies_df.info() #  create ROI metric"
   ]
  },
  {
   "cell_type": "code",
   "execution_count": 3,
   "metadata": {},
   "outputs": [],
   "source": [
    "tmdb_movies_df = tmdb_movies_df.set_index('id') #setting indexs and dropping columns that are not relevant "
   ]
  },
  {
   "cell_type": "code",
   "execution_count": 4,
   "metadata": {},
   "outputs": [],
   "source": [
    "movie_basics_df = movie_basics_df.set_index('movie_id')"
   ]
  },
  {
   "cell_type": "code",
   "execution_count": 5,
   "metadata": {},
   "outputs": [],
   "source": [
    "tmdb_movies_df = tmdb_movies_df.drop('original_language', axis=1)"
   ]
  },
  {
   "cell_type": "code",
   "execution_count": 6,
   "metadata": {},
   "outputs": [],
   "source": [
    "tmdb_movies_df = tmdb_movies_df.drop('title', axis=1)"
   ]
  },
  {
   "cell_type": "code",
   "execution_count": 7,
   "metadata": {},
   "outputs": [],
   "source": [
    "tmdb_movies_df = tmdb_movies_df.drop('Unnamed: 0', axis=1)"
   ]
  },
  {
   "cell_type": "code",
   "execution_count": 8,
   "metadata": {},
   "outputs": [],
   "source": [
    "tmdb_movies_df = tmdb_movies_df.drop('vote_count', axis=1)"
   ]
  },
  {
   "cell_type": "code",
   "execution_count": 9,
   "metadata": {},
   "outputs": [],
   "source": [
    "tmdb_movies_df = tmdb_movies_df.drop('popularity', axis=1)"
   ]
  },
  {
   "cell_type": "code",
   "execution_count": 10,
   "metadata": {},
   "outputs": [],
   "source": [
    "tmdb_movies_df = tmdb_movies_df.drop('vote_average', axis=1)"
   ]
  },
  {
   "cell_type": "code",
   "execution_count": 11,
   "metadata": {},
   "outputs": [],
   "source": [
    "movie_basics_df = movie_basics_df.drop('runtime_minutes', axis=1)"
   ]
  },
  {
   "cell_type": "code",
   "execution_count": 12,
   "metadata": {},
   "outputs": [],
   "source": [
    "movie_basics_df = movie_basics_df.drop('original_title', axis=1)"
   ]
  },
  {
   "cell_type": "code",
   "execution_count": 13,
   "metadata": {},
   "outputs": [],
   "source": [
    "tmdb_movies_df['release_date'] = pd.to_datetime(tmdb_movies_df['release_date'], format = '%Y%') "
   ]
  },
  {
   "cell_type": "code",
   "execution_count": 14,
   "metadata": {},
   "outputs": [],
   "source": [
    "tmdb_movies_df['year'] = tmdb_movies_df['release_date'].dt.year"
   ]
  },
  {
   "cell_type": "code",
   "execution_count": 15,
   "metadata": {},
   "outputs": [],
   "source": [
    "tmdb_movies_df = tmdb_movies_df.drop('release_date', axis=1)"
   ]
  },
  {
   "cell_type": "code",
   "execution_count": 16,
   "metadata": {},
   "outputs": [],
   "source": [
    "tmdb_movies_df = tmdb_movies_df.set_index('original_title')"
   ]
  },
  {
   "cell_type": "code",
   "execution_count": 17,
   "metadata": {},
   "outputs": [],
   "source": [
    "movie_basics_df = movie_basics_df.set_index('primary_title')"
   ]
  },
  {
   "cell_type": "code",
   "execution_count": 18,
   "metadata": {},
   "outputs": [],
   "source": [
    "tn_movies_df = tn_movies_df.set_index('movie')"
   ]
  },
  {
   "cell_type": "code",
   "execution_count": 19,
   "metadata": {},
   "outputs": [],
   "source": [
    "tn_movies_df = tn_movies_df.drop('id', axis = 1)"
   ]
  },
  {
   "cell_type": "code",
   "execution_count": 20,
   "metadata": {},
   "outputs": [],
   "source": [
    "genre_df = movie_basics_df.join(tmdb_movies_df, how = 'inner') #joining genre databases"
   ]
  },
  {
   "cell_type": "code",
   "execution_count": 21,
   "metadata": {},
   "outputs": [],
   "source": [
    "final_df = genre_df.join(tn_movies_df, how='inner') #joining genre databases with our the numbers database aka money"
   ]
  },
  {
   "cell_type": "code",
   "execution_count": 22,
   "metadata": {
    "scrolled": true
   },
   "outputs": [
    {
     "name": "stdout",
     "output_type": "stream",
     "text": [
      "<class 'pandas.core.frame.DataFrame'>\n",
      "Index: 4202 entries, #Horror to xXx: Return of Xander Cage\n",
      "Data columns (total 8 columns):\n",
      " #   Column             Non-Null Count  Dtype \n",
      "---  ------             --------------  ----- \n",
      " 0   start_year         4202 non-null   int64 \n",
      " 1   genres             4133 non-null   object\n",
      " 2   genre_ids          4202 non-null   object\n",
      " 3   year               4202 non-null   int64 \n",
      " 4   release_date       4202 non-null   object\n",
      " 5   production_budget  4202 non-null   object\n",
      " 6   domestic_gross     4202 non-null   object\n",
      " 7   worldwide_gross    4202 non-null   object\n",
      "dtypes: int64(2), object(6)\n",
      "memory usage: 295.5+ KB\n"
     ]
    }
   ],
   "source": [
    "final_df.info()  # I need to switch the date to datetime"
   ]
  },
  {
   "cell_type": "code",
   "execution_count": 23,
   "metadata": {},
   "outputs": [],
   "source": [
    "final_df = final_df.drop('year', axis=1) #dropping duplicate dates"
   ]
  },
  {
   "cell_type": "code",
   "execution_count": 24,
   "metadata": {},
   "outputs": [],
   "source": [
    "final_df = final_df.drop('start_year', axis=1)"
   ]
  },
  {
   "cell_type": "code",
   "execution_count": 25,
   "metadata": {},
   "outputs": [],
   "source": [
    "final_df = final_df[final_df.worldwide_gross != '$0'] #dropping worldwide gross values that equal 0"
   ]
  },
  {
   "cell_type": "code",
   "execution_count": 26,
   "metadata": {},
   "outputs": [
    {
     "name": "stdout",
     "output_type": "stream",
     "text": [
      "<class 'pandas.core.frame.DataFrame'>\n",
      "Index: 3669 entries, 10 Cloverfield Lane to xXx: Return of Xander Cage\n",
      "Data columns (total 6 columns):\n",
      " #   Column             Non-Null Count  Dtype \n",
      "---  ------             --------------  ----- \n",
      " 0   genres             3605 non-null   object\n",
      " 1   genre_ids          3669 non-null   object\n",
      " 2   release_date       3669 non-null   object\n",
      " 3   production_budget  3669 non-null   object\n",
      " 4   domestic_gross     3669 non-null   object\n",
      " 5   worldwide_gross    3669 non-null   object\n",
      "dtypes: object(6)\n",
      "memory usage: 200.6+ KB\n"
     ]
    }
   ],
   "source": [
    "final_df.info() #I need to change release_date to datetime, gross and budget columns to int"
   ]
  },
  {
   "cell_type": "code",
   "execution_count": 27,
   "metadata": {},
   "outputs": [],
   "source": [
    "final_df = final_df.dropna() #dropping empty genre values"
   ]
  },
  {
   "cell_type": "code",
   "execution_count": 28,
   "metadata": {},
   "outputs": [],
   "source": [
    "final_df = final_df.drop_duplicates() #dropping exact duplicates from df, still need to merge or drop duplicates that are not exact"
   ]
  },
  {
   "cell_type": "code",
   "execution_count": 29,
   "metadata": {},
   "outputs": [
    {
     "name": "stdout",
     "output_type": "stream",
     "text": [
      "<class 'pandas.core.frame.DataFrame'>\n",
      "Index: 2974 entries, 10 Cloverfield Lane to xXx: Return of Xander Cage\n",
      "Data columns (total 6 columns):\n",
      " #   Column             Non-Null Count  Dtype \n",
      "---  ------             --------------  ----- \n",
      " 0   genres             2974 non-null   object\n",
      " 1   genre_ids          2974 non-null   object\n",
      " 2   release_date       2974 non-null   object\n",
      " 3   production_budget  2974 non-null   object\n",
      " 4   domestic_gross     2974 non-null   object\n",
      " 5   worldwide_gross    2974 non-null   object\n",
      "dtypes: object(6)\n",
      "memory usage: 162.6+ KB\n"
     ]
    }
   ],
   "source": [
    "final_df.info() # I need to create columns for each genre and verify over boolean where to add the genre values that are not relevant, release_date needs to be type.datetime and production, domestic, and worldwide need to be ints"
   ]
  },
  {
   "cell_type": "code",
   "execution_count": 30,
   "metadata": {},
   "outputs": [],
   "source": [
    "final_df['genre_ids'] = final_df[\"genre_ids\"].str.split(\",\" , n = 1, expand = False)"
   ]
  },
  {
   "cell_type": "code",
   "execution_count": 31,
   "metadata": {},
   "outputs": [
    {
     "data": {
      "text/html": [
       "<div>\n",
       "<style scoped>\n",
       "    .dataframe tbody tr th:only-of-type {\n",
       "        vertical-align: middle;\n",
       "    }\n",
       "\n",
       "    .dataframe tbody tr th {\n",
       "        vertical-align: top;\n",
       "    }\n",
       "\n",
       "    .dataframe thead th {\n",
       "        text-align: right;\n",
       "    }\n",
       "</style>\n",
       "<table border=\"1\" class=\"dataframe\">\n",
       "  <thead>\n",
       "    <tr style=\"text-align: right;\">\n",
       "      <th></th>\n",
       "      <th>genres</th>\n",
       "      <th>genre_ids</th>\n",
       "      <th>release_date</th>\n",
       "      <th>production_budget</th>\n",
       "      <th>domestic_gross</th>\n",
       "      <th>worldwide_gross</th>\n",
       "    </tr>\n",
       "  </thead>\n",
       "  <tbody>\n",
       "    <tr>\n",
       "      <th>10 Cloverfield Lane</th>\n",
       "      <td>Drama,Horror,Mystery</td>\n",
       "      <td>[[53,  878, 18]]</td>\n",
       "      <td>Mar 11, 2016</td>\n",
       "      <td>$5,000,000</td>\n",
       "      <td>$72,082,999</td>\n",
       "      <td>$108,286,422</td>\n",
       "    </tr>\n",
       "    <tr>\n",
       "      <th>10 Days in a Madhouse</th>\n",
       "      <td>Drama</td>\n",
       "      <td>[[18]]</td>\n",
       "      <td>Nov 11, 2015</td>\n",
       "      <td>$12,000,000</td>\n",
       "      <td>$14,616</td>\n",
       "      <td>$14,616</td>\n",
       "    </tr>\n",
       "    <tr>\n",
       "      <th>12 Strong</th>\n",
       "      <td>Action,Drama,History</td>\n",
       "      <td>[[10752,  18, 36, 28]]</td>\n",
       "      <td>Jan 19, 2018</td>\n",
       "      <td>$35,000,000</td>\n",
       "      <td>$45,819,713</td>\n",
       "      <td>$71,118,378</td>\n",
       "    </tr>\n",
       "    <tr>\n",
       "      <th>12 Years a Slave</th>\n",
       "      <td>Biography,Drama,History</td>\n",
       "      <td>[[18,  36]]</td>\n",
       "      <td>Oct 18, 2013</td>\n",
       "      <td>$20,000,000</td>\n",
       "      <td>$56,671,993</td>\n",
       "      <td>$181,025,343</td>\n",
       "    </tr>\n",
       "    <tr>\n",
       "      <th>127 Hours</th>\n",
       "      <td>Adventure,Biography,Drama</td>\n",
       "      <td>[[12,  18, 53]]</td>\n",
       "      <td>Nov 5, 2010</td>\n",
       "      <td>$18,000,000</td>\n",
       "      <td>$18,335,230</td>\n",
       "      <td>$60,217,171</td>\n",
       "    </tr>\n",
       "  </tbody>\n",
       "</table>\n",
       "</div>"
      ],
      "text/plain": [
       "                                          genres               genre_ids  \\\n",
       "10 Cloverfield Lane         Drama,Horror,Mystery        [[53,  878, 18]]   \n",
       "10 Days in a Madhouse                      Drama                  [[18]]   \n",
       "12 Strong                   Action,Drama,History  [[10752,  18, 36, 28]]   \n",
       "12 Years a Slave         Biography,Drama,History             [[18,  36]]   \n",
       "127 Hours              Adventure,Biography,Drama         [[12,  18, 53]]   \n",
       "\n",
       "                       release_date production_budget domestic_gross  \\\n",
       "10 Cloverfield Lane    Mar 11, 2016        $5,000,000    $72,082,999   \n",
       "10 Days in a Madhouse  Nov 11, 2015       $12,000,000        $14,616   \n",
       "12 Strong              Jan 19, 2018       $35,000,000    $45,819,713   \n",
       "12 Years a Slave       Oct 18, 2013       $20,000,000    $56,671,993   \n",
       "127 Hours               Nov 5, 2010       $18,000,000    $18,335,230   \n",
       "\n",
       "                      worldwide_gross  \n",
       "10 Cloverfield Lane      $108,286,422  \n",
       "10 Days in a Madhouse         $14,616  \n",
       "12 Strong                 $71,118,378  \n",
       "12 Years a Slave         $181,025,343  \n",
       "127 Hours                 $60,217,171  "
      ]
     },
     "execution_count": 31,
     "metadata": {},
     "output_type": "execute_result"
    }
   ],
   "source": [
    "final_df.head()"
   ]
  },
  {
   "cell_type": "code",
   "execution_count": 32,
   "metadata": {},
   "outputs": [],
   "source": [
    "final_df = final_df.drop('genres', axis=1) # dropping genres column and using genre_ids as that one seems to place the most relevant genre first"
   ]
  },
  {
   "cell_type": "code",
   "execution_count": 33,
   "metadata": {},
   "outputs": [
    {
     "data": {
      "text/html": [
       "<div>\n",
       "<style scoped>\n",
       "    .dataframe tbody tr th:only-of-type {\n",
       "        vertical-align: middle;\n",
       "    }\n",
       "\n",
       "    .dataframe tbody tr th {\n",
       "        vertical-align: top;\n",
       "    }\n",
       "\n",
       "    .dataframe thead th {\n",
       "        text-align: right;\n",
       "    }\n",
       "</style>\n",
       "<table border=\"1\" class=\"dataframe\">\n",
       "  <thead>\n",
       "    <tr style=\"text-align: right;\">\n",
       "      <th></th>\n",
       "      <th>genre_ids</th>\n",
       "      <th>release_date</th>\n",
       "      <th>production_budget</th>\n",
       "      <th>domestic_gross</th>\n",
       "      <th>worldwide_gross</th>\n",
       "    </tr>\n",
       "  </thead>\n",
       "  <tbody>\n",
       "    <tr>\n",
       "      <th>10 Cloverfield Lane</th>\n",
       "      <td>[[53,  878, 18]]</td>\n",
       "      <td>Mar 11, 2016</td>\n",
       "      <td>$5,000,000</td>\n",
       "      <td>$72,082,999</td>\n",
       "      <td>$108,286,422</td>\n",
       "    </tr>\n",
       "    <tr>\n",
       "      <th>10 Days in a Madhouse</th>\n",
       "      <td>[[18]]</td>\n",
       "      <td>Nov 11, 2015</td>\n",
       "      <td>$12,000,000</td>\n",
       "      <td>$14,616</td>\n",
       "      <td>$14,616</td>\n",
       "    </tr>\n",
       "    <tr>\n",
       "      <th>12 Strong</th>\n",
       "      <td>[[10752,  18, 36, 28]]</td>\n",
       "      <td>Jan 19, 2018</td>\n",
       "      <td>$35,000,000</td>\n",
       "      <td>$45,819,713</td>\n",
       "      <td>$71,118,378</td>\n",
       "    </tr>\n",
       "    <tr>\n",
       "      <th>12 Years a Slave</th>\n",
       "      <td>[[18,  36]]</td>\n",
       "      <td>Oct 18, 2013</td>\n",
       "      <td>$20,000,000</td>\n",
       "      <td>$56,671,993</td>\n",
       "      <td>$181,025,343</td>\n",
       "    </tr>\n",
       "    <tr>\n",
       "      <th>127 Hours</th>\n",
       "      <td>[[12,  18, 53]]</td>\n",
       "      <td>Nov 5, 2010</td>\n",
       "      <td>$18,000,000</td>\n",
       "      <td>$18,335,230</td>\n",
       "      <td>$60,217,171</td>\n",
       "    </tr>\n",
       "  </tbody>\n",
       "</table>\n",
       "</div>"
      ],
      "text/plain": [
       "                                    genre_ids  release_date production_budget  \\\n",
       "10 Cloverfield Lane          [[53,  878, 18]]  Mar 11, 2016        $5,000,000   \n",
       "10 Days in a Madhouse                  [[18]]  Nov 11, 2015       $12,000,000   \n",
       "12 Strong              [[10752,  18, 36, 28]]  Jan 19, 2018       $35,000,000   \n",
       "12 Years a Slave                  [[18,  36]]  Oct 18, 2013       $20,000,000   \n",
       "127 Hours                     [[12,  18, 53]]   Nov 5, 2010       $18,000,000   \n",
       "\n",
       "                      domestic_gross worldwide_gross  \n",
       "10 Cloverfield Lane      $72,082,999    $108,286,422  \n",
       "10 Days in a Madhouse        $14,616         $14,616  \n",
       "12 Strong                $45,819,713     $71,118,378  \n",
       "12 Years a Slave         $56,671,993    $181,025,343  \n",
       "127 Hours                $18,335,230     $60,217,171  "
      ]
     },
     "execution_count": 33,
     "metadata": {},
     "output_type": "execute_result"
    }
   ],
   "source": [
    "final_df.head()"
   ]
  },
  {
   "cell_type": "code",
   "execution_count": 34,
   "metadata": {},
   "outputs": [
    {
     "data": {
      "text/plain": [
       "pandas.core.series.Series"
      ]
     },
     "execution_count": 34,
     "metadata": {},
     "output_type": "execute_result"
    }
   ],
   "source": [
    "type(final_df['genre_ids'])"
   ]
  },
  {
   "cell_type": "code",
   "execution_count": 35,
   "metadata": {},
   "outputs": [],
   "source": [
    "final_df['Genre'] = final_df.genre_ids.apply(lambda x: x[0])"
   ]
  },
  {
   "cell_type": "code",
   "execution_count": 36,
   "metadata": {},
   "outputs": [
    {
     "data": {
      "text/html": [
       "<div>\n",
       "<style scoped>\n",
       "    .dataframe tbody tr th:only-of-type {\n",
       "        vertical-align: middle;\n",
       "    }\n",
       "\n",
       "    .dataframe tbody tr th {\n",
       "        vertical-align: top;\n",
       "    }\n",
       "\n",
       "    .dataframe thead th {\n",
       "        text-align: right;\n",
       "    }\n",
       "</style>\n",
       "<table border=\"1\" class=\"dataframe\">\n",
       "  <thead>\n",
       "    <tr style=\"text-align: right;\">\n",
       "      <th></th>\n",
       "      <th>genre_ids</th>\n",
       "      <th>release_date</th>\n",
       "      <th>production_budget</th>\n",
       "      <th>domestic_gross</th>\n",
       "      <th>worldwide_gross</th>\n",
       "      <th>Genre</th>\n",
       "    </tr>\n",
       "  </thead>\n",
       "  <tbody>\n",
       "    <tr>\n",
       "      <th>10 Cloverfield Lane</th>\n",
       "      <td>[[53,  878, 18]]</td>\n",
       "      <td>Mar 11, 2016</td>\n",
       "      <td>$5,000,000</td>\n",
       "      <td>$72,082,999</td>\n",
       "      <td>$108,286,422</td>\n",
       "      <td>[53</td>\n",
       "    </tr>\n",
       "    <tr>\n",
       "      <th>10 Days in a Madhouse</th>\n",
       "      <td>[[18]]</td>\n",
       "      <td>Nov 11, 2015</td>\n",
       "      <td>$12,000,000</td>\n",
       "      <td>$14,616</td>\n",
       "      <td>$14,616</td>\n",
       "      <td>[18]</td>\n",
       "    </tr>\n",
       "    <tr>\n",
       "      <th>12 Strong</th>\n",
       "      <td>[[10752,  18, 36, 28]]</td>\n",
       "      <td>Jan 19, 2018</td>\n",
       "      <td>$35,000,000</td>\n",
       "      <td>$45,819,713</td>\n",
       "      <td>$71,118,378</td>\n",
       "      <td>[10752</td>\n",
       "    </tr>\n",
       "    <tr>\n",
       "      <th>12 Years a Slave</th>\n",
       "      <td>[[18,  36]]</td>\n",
       "      <td>Oct 18, 2013</td>\n",
       "      <td>$20,000,000</td>\n",
       "      <td>$56,671,993</td>\n",
       "      <td>$181,025,343</td>\n",
       "      <td>[18</td>\n",
       "    </tr>\n",
       "    <tr>\n",
       "      <th>127 Hours</th>\n",
       "      <td>[[12,  18, 53]]</td>\n",
       "      <td>Nov 5, 2010</td>\n",
       "      <td>$18,000,000</td>\n",
       "      <td>$18,335,230</td>\n",
       "      <td>$60,217,171</td>\n",
       "      <td>[12</td>\n",
       "    </tr>\n",
       "  </tbody>\n",
       "</table>\n",
       "</div>"
      ],
      "text/plain": [
       "                                    genre_ids  release_date production_budget  \\\n",
       "10 Cloverfield Lane          [[53,  878, 18]]  Mar 11, 2016        $5,000,000   \n",
       "10 Days in a Madhouse                  [[18]]  Nov 11, 2015       $12,000,000   \n",
       "12 Strong              [[10752,  18, 36, 28]]  Jan 19, 2018       $35,000,000   \n",
       "12 Years a Slave                  [[18,  36]]  Oct 18, 2013       $20,000,000   \n",
       "127 Hours                     [[12,  18, 53]]   Nov 5, 2010       $18,000,000   \n",
       "\n",
       "                      domestic_gross worldwide_gross   Genre  \n",
       "10 Cloverfield Lane      $72,082,999    $108,286,422     [53  \n",
       "10 Days in a Madhouse        $14,616         $14,616    [18]  \n",
       "12 Strong                $45,819,713     $71,118,378  [10752  \n",
       "12 Years a Slave         $56,671,993    $181,025,343     [18  \n",
       "127 Hours                $18,335,230     $60,217,171     [12  "
      ]
     },
     "execution_count": 36,
     "metadata": {},
     "output_type": "execute_result"
    }
   ],
   "source": [
    "final_df.head()"
   ]
  },
  {
   "cell_type": "code",
   "execution_count": 37,
   "metadata": {},
   "outputs": [
    {
     "data": {
      "text/html": [
       "<div>\n",
       "<style scoped>\n",
       "    .dataframe tbody tr th:only-of-type {\n",
       "        vertical-align: middle;\n",
       "    }\n",
       "\n",
       "    .dataframe tbody tr th {\n",
       "        vertical-align: top;\n",
       "    }\n",
       "\n",
       "    .dataframe thead th {\n",
       "        text-align: right;\n",
       "    }\n",
       "</style>\n",
       "<table border=\"1\" class=\"dataframe\">\n",
       "  <thead>\n",
       "    <tr style=\"text-align: right;\">\n",
       "      <th></th>\n",
       "      <th>genre_ids</th>\n",
       "      <th>release_date</th>\n",
       "      <th>production_budget</th>\n",
       "      <th>domestic_gross</th>\n",
       "      <th>worldwide_gross</th>\n",
       "      <th>Genre</th>\n",
       "    </tr>\n",
       "  </thead>\n",
       "  <tbody>\n",
       "    <tr>\n",
       "      <th>10 Cloverfield Lane</th>\n",
       "      <td>[[53,  878, 18]]</td>\n",
       "      <td>Mar 11, 2016</td>\n",
       "      <td>$5,000,000</td>\n",
       "      <td>$72,082,999</td>\n",
       "      <td>$108,286,422</td>\n",
       "      <td>[53</td>\n",
       "    </tr>\n",
       "    <tr>\n",
       "      <th>10 Days in a Madhouse</th>\n",
       "      <td>[[18]]</td>\n",
       "      <td>Nov 11, 2015</td>\n",
       "      <td>$12,000,000</td>\n",
       "      <td>$14,616</td>\n",
       "      <td>$14,616</td>\n",
       "      <td>[18]</td>\n",
       "    </tr>\n",
       "    <tr>\n",
       "      <th>12 Strong</th>\n",
       "      <td>[[10752,  18, 36, 28]]</td>\n",
       "      <td>Jan 19, 2018</td>\n",
       "      <td>$35,000,000</td>\n",
       "      <td>$45,819,713</td>\n",
       "      <td>$71,118,378</td>\n",
       "      <td>[10752</td>\n",
       "    </tr>\n",
       "    <tr>\n",
       "      <th>12 Years a Slave</th>\n",
       "      <td>[[18,  36]]</td>\n",
       "      <td>Oct 18, 2013</td>\n",
       "      <td>$20,000,000</td>\n",
       "      <td>$56,671,993</td>\n",
       "      <td>$181,025,343</td>\n",
       "      <td>[18</td>\n",
       "    </tr>\n",
       "    <tr>\n",
       "      <th>127 Hours</th>\n",
       "      <td>[[12,  18, 53]]</td>\n",
       "      <td>Nov 5, 2010</td>\n",
       "      <td>$18,000,000</td>\n",
       "      <td>$18,335,230</td>\n",
       "      <td>$60,217,171</td>\n",
       "      <td>[12</td>\n",
       "    </tr>\n",
       "  </tbody>\n",
       "</table>\n",
       "</div>"
      ],
      "text/plain": [
       "                                    genre_ids  release_date production_budget  \\\n",
       "10 Cloverfield Lane          [[53,  878, 18]]  Mar 11, 2016        $5,000,000   \n",
       "10 Days in a Madhouse                  [[18]]  Nov 11, 2015       $12,000,000   \n",
       "12 Strong              [[10752,  18, 36, 28]]  Jan 19, 2018       $35,000,000   \n",
       "12 Years a Slave                  [[18,  36]]  Oct 18, 2013       $20,000,000   \n",
       "127 Hours                     [[12,  18, 53]]   Nov 5, 2010       $18,000,000   \n",
       "\n",
       "                      domestic_gross worldwide_gross   Genre  \n",
       "10 Cloverfield Lane      $72,082,999    $108,286,422     [53  \n",
       "10 Days in a Madhouse        $14,616         $14,616    [18]  \n",
       "12 Strong                $45,819,713     $71,118,378  [10752  \n",
       "12 Years a Slave         $56,671,993    $181,025,343     [18  \n",
       "127 Hours                $18,335,230     $60,217,171     [12  "
      ]
     },
     "execution_count": 37,
     "metadata": {},
     "output_type": "execute_result"
    }
   ],
   "source": [
    "final_df.head()"
   ]
  },
  {
   "cell_type": "code",
   "execution_count": 38,
   "metadata": {},
   "outputs": [],
   "source": [
    "final_df['Genre'].replace(regex=True, inplace=True, to_replace=r'[^0-9.\\-]',\n",
    "value=r'') #cleaning the new Genres tab"
   ]
  },
  {
   "cell_type": "code",
   "execution_count": 39,
   "metadata": {},
   "outputs": [
    {
     "data": {
      "text/html": [
       "<div>\n",
       "<style scoped>\n",
       "    .dataframe tbody tr th:only-of-type {\n",
       "        vertical-align: middle;\n",
       "    }\n",
       "\n",
       "    .dataframe tbody tr th {\n",
       "        vertical-align: top;\n",
       "    }\n",
       "\n",
       "    .dataframe thead th {\n",
       "        text-align: right;\n",
       "    }\n",
       "</style>\n",
       "<table border=\"1\" class=\"dataframe\">\n",
       "  <thead>\n",
       "    <tr style=\"text-align: right;\">\n",
       "      <th></th>\n",
       "      <th>genre_ids</th>\n",
       "      <th>release_date</th>\n",
       "      <th>production_budget</th>\n",
       "      <th>domestic_gross</th>\n",
       "      <th>worldwide_gross</th>\n",
       "      <th>Genre</th>\n",
       "    </tr>\n",
       "  </thead>\n",
       "  <tbody>\n",
       "    <tr>\n",
       "      <th>10 Cloverfield Lane</th>\n",
       "      <td>[[53,  878, 18]]</td>\n",
       "      <td>Mar 11, 2016</td>\n",
       "      <td>$5,000,000</td>\n",
       "      <td>$72,082,999</td>\n",
       "      <td>$108,286,422</td>\n",
       "      <td>53</td>\n",
       "    </tr>\n",
       "    <tr>\n",
       "      <th>10 Days in a Madhouse</th>\n",
       "      <td>[[18]]</td>\n",
       "      <td>Nov 11, 2015</td>\n",
       "      <td>$12,000,000</td>\n",
       "      <td>$14,616</td>\n",
       "      <td>$14,616</td>\n",
       "      <td>18</td>\n",
       "    </tr>\n",
       "    <tr>\n",
       "      <th>12 Strong</th>\n",
       "      <td>[[10752,  18, 36, 28]]</td>\n",
       "      <td>Jan 19, 2018</td>\n",
       "      <td>$35,000,000</td>\n",
       "      <td>$45,819,713</td>\n",
       "      <td>$71,118,378</td>\n",
       "      <td>10752</td>\n",
       "    </tr>\n",
       "    <tr>\n",
       "      <th>12 Years a Slave</th>\n",
       "      <td>[[18,  36]]</td>\n",
       "      <td>Oct 18, 2013</td>\n",
       "      <td>$20,000,000</td>\n",
       "      <td>$56,671,993</td>\n",
       "      <td>$181,025,343</td>\n",
       "      <td>18</td>\n",
       "    </tr>\n",
       "    <tr>\n",
       "      <th>127 Hours</th>\n",
       "      <td>[[12,  18, 53]]</td>\n",
       "      <td>Nov 5, 2010</td>\n",
       "      <td>$18,000,000</td>\n",
       "      <td>$18,335,230</td>\n",
       "      <td>$60,217,171</td>\n",
       "      <td>12</td>\n",
       "    </tr>\n",
       "  </tbody>\n",
       "</table>\n",
       "</div>"
      ],
      "text/plain": [
       "                                    genre_ids  release_date production_budget  \\\n",
       "10 Cloverfield Lane          [[53,  878, 18]]  Mar 11, 2016        $5,000,000   \n",
       "10 Days in a Madhouse                  [[18]]  Nov 11, 2015       $12,000,000   \n",
       "12 Strong              [[10752,  18, 36, 28]]  Jan 19, 2018       $35,000,000   \n",
       "12 Years a Slave                  [[18,  36]]  Oct 18, 2013       $20,000,000   \n",
       "127 Hours                     [[12,  18, 53]]   Nov 5, 2010       $18,000,000   \n",
       "\n",
       "                      domestic_gross worldwide_gross  Genre  \n",
       "10 Cloverfield Lane      $72,082,999    $108,286,422     53  \n",
       "10 Days in a Madhouse        $14,616         $14,616     18  \n",
       "12 Strong                $45,819,713     $71,118,378  10752  \n",
       "12 Years a Slave         $56,671,993    $181,025,343     18  \n",
       "127 Hours                $18,335,230     $60,217,171     12  "
      ]
     },
     "execution_count": 39,
     "metadata": {},
     "output_type": "execute_result"
    }
   ],
   "source": [
    "final_df.head()"
   ]
  },
  {
   "cell_type": "code",
   "execution_count": 40,
   "metadata": {},
   "outputs": [],
   "source": [
    "final_df = final_df.drop('genre_ids', axis =1)"
   ]
  },
  {
   "cell_type": "code",
   "execution_count": 41,
   "metadata": {},
   "outputs": [
    {
     "data": {
      "text/html": [
       "<div>\n",
       "<style scoped>\n",
       "    .dataframe tbody tr th:only-of-type {\n",
       "        vertical-align: middle;\n",
       "    }\n",
       "\n",
       "    .dataframe tbody tr th {\n",
       "        vertical-align: top;\n",
       "    }\n",
       "\n",
       "    .dataframe thead th {\n",
       "        text-align: right;\n",
       "    }\n",
       "</style>\n",
       "<table border=\"1\" class=\"dataframe\">\n",
       "  <thead>\n",
       "    <tr style=\"text-align: right;\">\n",
       "      <th></th>\n",
       "      <th>release_date</th>\n",
       "      <th>production_budget</th>\n",
       "      <th>domestic_gross</th>\n",
       "      <th>worldwide_gross</th>\n",
       "      <th>Genre</th>\n",
       "    </tr>\n",
       "  </thead>\n",
       "  <tbody>\n",
       "    <tr>\n",
       "      <th>10 Cloverfield Lane</th>\n",
       "      <td>Mar 11, 2016</td>\n",
       "      <td>$5,000,000</td>\n",
       "      <td>$72,082,999</td>\n",
       "      <td>$108,286,422</td>\n",
       "      <td>53</td>\n",
       "    </tr>\n",
       "    <tr>\n",
       "      <th>10 Days in a Madhouse</th>\n",
       "      <td>Nov 11, 2015</td>\n",
       "      <td>$12,000,000</td>\n",
       "      <td>$14,616</td>\n",
       "      <td>$14,616</td>\n",
       "      <td>18</td>\n",
       "    </tr>\n",
       "    <tr>\n",
       "      <th>12 Strong</th>\n",
       "      <td>Jan 19, 2018</td>\n",
       "      <td>$35,000,000</td>\n",
       "      <td>$45,819,713</td>\n",
       "      <td>$71,118,378</td>\n",
       "      <td>10752</td>\n",
       "    </tr>\n",
       "    <tr>\n",
       "      <th>12 Years a Slave</th>\n",
       "      <td>Oct 18, 2013</td>\n",
       "      <td>$20,000,000</td>\n",
       "      <td>$56,671,993</td>\n",
       "      <td>$181,025,343</td>\n",
       "      <td>18</td>\n",
       "    </tr>\n",
       "    <tr>\n",
       "      <th>127 Hours</th>\n",
       "      <td>Nov 5, 2010</td>\n",
       "      <td>$18,000,000</td>\n",
       "      <td>$18,335,230</td>\n",
       "      <td>$60,217,171</td>\n",
       "      <td>12</td>\n",
       "    </tr>\n",
       "  </tbody>\n",
       "</table>\n",
       "</div>"
      ],
      "text/plain": [
       "                       release_date production_budget domestic_gross  \\\n",
       "10 Cloverfield Lane    Mar 11, 2016        $5,000,000    $72,082,999   \n",
       "10 Days in a Madhouse  Nov 11, 2015       $12,000,000        $14,616   \n",
       "12 Strong              Jan 19, 2018       $35,000,000    $45,819,713   \n",
       "12 Years a Slave       Oct 18, 2013       $20,000,000    $56,671,993   \n",
       "127 Hours               Nov 5, 2010       $18,000,000    $18,335,230   \n",
       "\n",
       "                      worldwide_gross  Genre  \n",
       "10 Cloverfield Lane      $108,286,422     53  \n",
       "10 Days in a Madhouse         $14,616     18  \n",
       "12 Strong                 $71,118,378  10752  \n",
       "12 Years a Slave         $181,025,343     18  \n",
       "127 Hours                 $60,217,171     12  "
      ]
     },
     "execution_count": 41,
     "metadata": {},
     "output_type": "execute_result"
    }
   ],
   "source": [
    "final_df.head()"
   ]
  },
  {
   "cell_type": "code",
   "execution_count": 44,
   "metadata": {},
   "outputs": [],
   "source": [
    "final_df['Action'] = final_df['Genre'].isin(['28'])"
   ]
  },
  {
   "cell_type": "code",
   "execution_count": 45,
   "metadata": {},
   "outputs": [],
   "source": [
    "final_df['Adventure'] = final_df['Genre'].isin(['12'])"
   ]
  },
  {
   "cell_type": "code",
   "execution_count": 46,
   "metadata": {},
   "outputs": [],
   "source": [
    "final_df['Animation'] = final_df['Genre'].isin(['16'])"
   ]
  },
  {
   "cell_type": "code",
   "execution_count": 47,
   "metadata": {},
   "outputs": [],
   "source": [
    "final_df['Comedy'] = final_df['Genre'].isin(['35'])"
   ]
  },
  {
   "cell_type": "code",
   "execution_count": 48,
   "metadata": {},
   "outputs": [],
   "source": [
    "final_df['Crime'] = final_df['Genre'].isin(['80'])"
   ]
  },
  {
   "cell_type": "code",
   "execution_count": 49,
   "metadata": {},
   "outputs": [],
   "source": [
    "final_df['Documentary'] = final_df['Genre'].isin(['99'])"
   ]
  },
  {
   "cell_type": "code",
   "execution_count": 50,
   "metadata": {},
   "outputs": [],
   "source": [
    "final_df['Drama'] = final_df['Genre'].isin(['18'])"
   ]
  },
  {
   "cell_type": "code",
   "execution_count": 51,
   "metadata": {},
   "outputs": [],
   "source": [
    "final_df['Family'] = final_df['Genre'].isin(['10751'])"
   ]
  },
  {
   "cell_type": "code",
   "execution_count": 52,
   "metadata": {},
   "outputs": [],
   "source": [
    "final_df['Fantasy'] = final_df['Genre'].isin(['14'])"
   ]
  },
  {
   "cell_type": "code",
   "execution_count": 53,
   "metadata": {},
   "outputs": [],
   "source": [
    "final_df['History'] = final_df['Genre'].isin(['36'])"
   ]
  },
  {
   "cell_type": "code",
   "execution_count": 54,
   "metadata": {},
   "outputs": [],
   "source": [
    "final_df['Horror'] = final_df['Genre'].isin(['27'])"
   ]
  },
  {
   "cell_type": "code",
   "execution_count": 56,
   "metadata": {},
   "outputs": [],
   "source": [
    "final_df['Mystery'] = final_df['Genre'].isin(['9648'])"
   ]
  },
  {
   "cell_type": "code",
   "execution_count": 57,
   "metadata": {},
   "outputs": [],
   "source": [
    "final_df['Music'] = final_df['Genre'].isin(['10402'])"
   ]
  },
  {
   "cell_type": "code",
   "execution_count": 58,
   "metadata": {},
   "outputs": [],
   "source": [
    "final_df['Romance'] = final_df['Genre'].isin(['10749'])"
   ]
  },
  {
   "cell_type": "code",
   "execution_count": 59,
   "metadata": {},
   "outputs": [],
   "source": [
    "final_df['SciFi'] = final_df['Genre'].isin(['878'])"
   ]
  },
  {
   "cell_type": "code",
   "execution_count": 60,
   "metadata": {},
   "outputs": [],
   "source": [
    "final_df['TV_Movie'] = final_df['Genre'].isin(['10770'])"
   ]
  },
  {
   "cell_type": "code",
   "execution_count": 61,
   "metadata": {},
   "outputs": [],
   "source": [
    "final_df['Thriller'] = final_df['Genre'].isin(['53'])"
   ]
  },
  {
   "cell_type": "code",
   "execution_count": 62,
   "metadata": {},
   "outputs": [],
   "source": [
    "final_df['War'] = final_df['Genre'].isin(['10752'])"
   ]
  },
  {
   "cell_type": "code",
   "execution_count": 63,
   "metadata": {},
   "outputs": [],
   "source": [
    "final_df['Western'] = final_df['Genre'].isin(['37'])"
   ]
  },
  {
   "cell_type": "code",
   "execution_count": 65,
   "metadata": {},
   "outputs": [
    {
     "data": {
      "text/html": [
       "<div>\n",
       "<style scoped>\n",
       "    .dataframe tbody tr th:only-of-type {\n",
       "        vertical-align: middle;\n",
       "    }\n",
       "\n",
       "    .dataframe tbody tr th {\n",
       "        vertical-align: top;\n",
       "    }\n",
       "\n",
       "    .dataframe thead th {\n",
       "        text-align: right;\n",
       "    }\n",
       "</style>\n",
       "<table border=\"1\" class=\"dataframe\">\n",
       "  <thead>\n",
       "    <tr style=\"text-align: right;\">\n",
       "      <th></th>\n",
       "      <th>release_date</th>\n",
       "      <th>production_budget</th>\n",
       "      <th>domestic_gross</th>\n",
       "      <th>worldwide_gross</th>\n",
       "      <th>Genre</th>\n",
       "      <th>Action</th>\n",
       "      <th>Adventure</th>\n",
       "      <th>Animation</th>\n",
       "      <th>Comedy</th>\n",
       "      <th>Crime</th>\n",
       "      <th>...</th>\n",
       "      <th>History</th>\n",
       "      <th>Horror</th>\n",
       "      <th>Music</th>\n",
       "      <th>Mystery</th>\n",
       "      <th>Romance</th>\n",
       "      <th>SciFi</th>\n",
       "      <th>TV_Movie</th>\n",
       "      <th>Thriller</th>\n",
       "      <th>War</th>\n",
       "      <th>Western</th>\n",
       "    </tr>\n",
       "  </thead>\n",
       "  <tbody>\n",
       "    <tr>\n",
       "      <th>10 Cloverfield Lane</th>\n",
       "      <td>Mar 11, 2016</td>\n",
       "      <td>$5,000,000</td>\n",
       "      <td>$72,082,999</td>\n",
       "      <td>$108,286,422</td>\n",
       "      <td>53</td>\n",
       "      <td>False</td>\n",
       "      <td>False</td>\n",
       "      <td>False</td>\n",
       "      <td>False</td>\n",
       "      <td>False</td>\n",
       "      <td>...</td>\n",
       "      <td>False</td>\n",
       "      <td>False</td>\n",
       "      <td>False</td>\n",
       "      <td>False</td>\n",
       "      <td>False</td>\n",
       "      <td>False</td>\n",
       "      <td>False</td>\n",
       "      <td>True</td>\n",
       "      <td>False</td>\n",
       "      <td>False</td>\n",
       "    </tr>\n",
       "    <tr>\n",
       "      <th>10 Days in a Madhouse</th>\n",
       "      <td>Nov 11, 2015</td>\n",
       "      <td>$12,000,000</td>\n",
       "      <td>$14,616</td>\n",
       "      <td>$14,616</td>\n",
       "      <td>18</td>\n",
       "      <td>False</td>\n",
       "      <td>False</td>\n",
       "      <td>False</td>\n",
       "      <td>False</td>\n",
       "      <td>False</td>\n",
       "      <td>...</td>\n",
       "      <td>False</td>\n",
       "      <td>False</td>\n",
       "      <td>False</td>\n",
       "      <td>False</td>\n",
       "      <td>False</td>\n",
       "      <td>False</td>\n",
       "      <td>False</td>\n",
       "      <td>False</td>\n",
       "      <td>False</td>\n",
       "      <td>False</td>\n",
       "    </tr>\n",
       "    <tr>\n",
       "      <th>12 Strong</th>\n",
       "      <td>Jan 19, 2018</td>\n",
       "      <td>$35,000,000</td>\n",
       "      <td>$45,819,713</td>\n",
       "      <td>$71,118,378</td>\n",
       "      <td>10752</td>\n",
       "      <td>False</td>\n",
       "      <td>False</td>\n",
       "      <td>False</td>\n",
       "      <td>False</td>\n",
       "      <td>False</td>\n",
       "      <td>...</td>\n",
       "      <td>False</td>\n",
       "      <td>False</td>\n",
       "      <td>False</td>\n",
       "      <td>False</td>\n",
       "      <td>False</td>\n",
       "      <td>False</td>\n",
       "      <td>False</td>\n",
       "      <td>False</td>\n",
       "      <td>True</td>\n",
       "      <td>False</td>\n",
       "    </tr>\n",
       "    <tr>\n",
       "      <th>12 Years a Slave</th>\n",
       "      <td>Oct 18, 2013</td>\n",
       "      <td>$20,000,000</td>\n",
       "      <td>$56,671,993</td>\n",
       "      <td>$181,025,343</td>\n",
       "      <td>18</td>\n",
       "      <td>False</td>\n",
       "      <td>False</td>\n",
       "      <td>False</td>\n",
       "      <td>False</td>\n",
       "      <td>False</td>\n",
       "      <td>...</td>\n",
       "      <td>False</td>\n",
       "      <td>False</td>\n",
       "      <td>False</td>\n",
       "      <td>False</td>\n",
       "      <td>False</td>\n",
       "      <td>False</td>\n",
       "      <td>False</td>\n",
       "      <td>False</td>\n",
       "      <td>False</td>\n",
       "      <td>False</td>\n",
       "    </tr>\n",
       "    <tr>\n",
       "      <th>127 Hours</th>\n",
       "      <td>Nov 5, 2010</td>\n",
       "      <td>$18,000,000</td>\n",
       "      <td>$18,335,230</td>\n",
       "      <td>$60,217,171</td>\n",
       "      <td>12</td>\n",
       "      <td>False</td>\n",
       "      <td>True</td>\n",
       "      <td>False</td>\n",
       "      <td>False</td>\n",
       "      <td>False</td>\n",
       "      <td>...</td>\n",
       "      <td>False</td>\n",
       "      <td>False</td>\n",
       "      <td>False</td>\n",
       "      <td>False</td>\n",
       "      <td>False</td>\n",
       "      <td>False</td>\n",
       "      <td>False</td>\n",
       "      <td>False</td>\n",
       "      <td>False</td>\n",
       "      <td>False</td>\n",
       "    </tr>\n",
       "  </tbody>\n",
       "</table>\n",
       "<p>5 rows × 24 columns</p>\n",
       "</div>"
      ],
      "text/plain": [
       "                       release_date production_budget domestic_gross  \\\n",
       "10 Cloverfield Lane    Mar 11, 2016        $5,000,000    $72,082,999   \n",
       "10 Days in a Madhouse  Nov 11, 2015       $12,000,000        $14,616   \n",
       "12 Strong              Jan 19, 2018       $35,000,000    $45,819,713   \n",
       "12 Years a Slave       Oct 18, 2013       $20,000,000    $56,671,993   \n",
       "127 Hours               Nov 5, 2010       $18,000,000    $18,335,230   \n",
       "\n",
       "                      worldwide_gross  Genre  Action  Adventure  Animation  \\\n",
       "10 Cloverfield Lane      $108,286,422     53   False      False      False   \n",
       "10 Days in a Madhouse         $14,616     18   False      False      False   \n",
       "12 Strong                 $71,118,378  10752   False      False      False   \n",
       "12 Years a Slave         $181,025,343     18   False      False      False   \n",
       "127 Hours                 $60,217,171     12   False       True      False   \n",
       "\n",
       "                       Comedy  Crime  ...  History  Horror  Music  Mystery  \\\n",
       "10 Cloverfield Lane     False  False  ...    False   False  False    False   \n",
       "10 Days in a Madhouse   False  False  ...    False   False  False    False   \n",
       "12 Strong               False  False  ...    False   False  False    False   \n",
       "12 Years a Slave        False  False  ...    False   False  False    False   \n",
       "127 Hours               False  False  ...    False   False  False    False   \n",
       "\n",
       "                       Romance  SciFi  TV_Movie  Thriller    War  Western  \n",
       "10 Cloverfield Lane      False  False     False      True  False    False  \n",
       "10 Days in a Madhouse    False  False     False     False  False    False  \n",
       "12 Strong                False  False     False     False   True    False  \n",
       "12 Years a Slave         False  False     False     False  False    False  \n",
       "127 Hours                False  False     False     False  False    False  \n",
       "\n",
       "[5 rows x 24 columns]"
      ]
     },
     "execution_count": 65,
     "metadata": {},
     "output_type": "execute_result"
    }
   ],
   "source": [
    "final_df.head()"
   ]
  },
  {
   "cell_type": "code",
   "execution_count": 69,
   "metadata": {},
   "outputs": [
    {
     "data": {
      "text/plain": [
       "False    2825\n",
       "True      149\n",
       "Name: Adventure, dtype: int64"
      ]
     },
     "execution_count": 69,
     "metadata": {},
     "output_type": "execute_result"
    }
   ],
   "source": [
    "final_df['Adventure'].value_counts()"
   ]
  },
  {
   "cell_type": "code",
   "execution_count": 68,
   "metadata": {},
   "outputs": [
    {
     "data": {
      "text/html": [
       "<div>\n",
       "<style scoped>\n",
       "    .dataframe tbody tr th:only-of-type {\n",
       "        vertical-align: middle;\n",
       "    }\n",
       "\n",
       "    .dataframe tbody tr th {\n",
       "        vertical-align: top;\n",
       "    }\n",
       "\n",
       "    .dataframe thead th {\n",
       "        text-align: right;\n",
       "    }\n",
       "</style>\n",
       "<table border=\"1\" class=\"dataframe\">\n",
       "  <thead>\n",
       "    <tr style=\"text-align: right;\">\n",
       "      <th></th>\n",
       "      <th>release_date</th>\n",
       "      <th>production_budget</th>\n",
       "      <th>domestic_gross</th>\n",
       "      <th>worldwide_gross</th>\n",
       "      <th>Genre</th>\n",
       "      <th>Action</th>\n",
       "      <th>Adventure</th>\n",
       "      <th>Animation</th>\n",
       "      <th>Comedy</th>\n",
       "      <th>Crime</th>\n",
       "      <th>...</th>\n",
       "      <th>History</th>\n",
       "      <th>Horror</th>\n",
       "      <th>Music</th>\n",
       "      <th>Mystery</th>\n",
       "      <th>Romance</th>\n",
       "      <th>SciFi</th>\n",
       "      <th>TV_Movie</th>\n",
       "      <th>Thriller</th>\n",
       "      <th>War</th>\n",
       "      <th>Western</th>\n",
       "    </tr>\n",
       "  </thead>\n",
       "  <tbody>\n",
       "    <tr>\n",
       "      <th>count</th>\n",
       "      <td>2974</td>\n",
       "      <td>2974</td>\n",
       "      <td>2974</td>\n",
       "      <td>2974</td>\n",
       "      <td>2974</td>\n",
       "      <td>2974</td>\n",
       "      <td>2974</td>\n",
       "      <td>2974</td>\n",
       "      <td>2974</td>\n",
       "      <td>2974</td>\n",
       "      <td>...</td>\n",
       "      <td>2974</td>\n",
       "      <td>2974</td>\n",
       "      <td>2974</td>\n",
       "      <td>2974</td>\n",
       "      <td>2974</td>\n",
       "      <td>2974</td>\n",
       "      <td>2974</td>\n",
       "      <td>2974</td>\n",
       "      <td>2974</td>\n",
       "      <td>2974</td>\n",
       "    </tr>\n",
       "    <tr>\n",
       "      <th>unique</th>\n",
       "      <td>733</td>\n",
       "      <td>276</td>\n",
       "      <td>1596</td>\n",
       "      <td>1658</td>\n",
       "      <td>20</td>\n",
       "      <td>2</td>\n",
       "      <td>2</td>\n",
       "      <td>2</td>\n",
       "      <td>2</td>\n",
       "      <td>2</td>\n",
       "      <td>...</td>\n",
       "      <td>2</td>\n",
       "      <td>2</td>\n",
       "      <td>2</td>\n",
       "      <td>2</td>\n",
       "      <td>2</td>\n",
       "      <td>2</td>\n",
       "      <td>2</td>\n",
       "      <td>2</td>\n",
       "      <td>2</td>\n",
       "      <td>2</td>\n",
       "    </tr>\n",
       "    <tr>\n",
       "      <th>top</th>\n",
       "      <td>Mar 27, 2015</td>\n",
       "      <td>$5,000,000</td>\n",
       "      <td>$0</td>\n",
       "      <td>$385,997,896</td>\n",
       "      <td>18</td>\n",
       "      <td>False</td>\n",
       "      <td>False</td>\n",
       "      <td>False</td>\n",
       "      <td>False</td>\n",
       "      <td>False</td>\n",
       "      <td>...</td>\n",
       "      <td>False</td>\n",
       "      <td>False</td>\n",
       "      <td>False</td>\n",
       "      <td>False</td>\n",
       "      <td>False</td>\n",
       "      <td>False</td>\n",
       "      <td>False</td>\n",
       "      <td>False</td>\n",
       "      <td>False</td>\n",
       "      <td>False</td>\n",
       "    </tr>\n",
       "    <tr>\n",
       "      <th>freq</th>\n",
       "      <td>68</td>\n",
       "      <td>166</td>\n",
       "      <td>114</td>\n",
       "      <td>65</td>\n",
       "      <td>733</td>\n",
       "      <td>2600</td>\n",
       "      <td>2825</td>\n",
       "      <td>2905</td>\n",
       "      <td>2567</td>\n",
       "      <td>2859</td>\n",
       "      <td>...</td>\n",
       "      <td>2946</td>\n",
       "      <td>2717</td>\n",
       "      <td>2963</td>\n",
       "      <td>2945</td>\n",
       "      <td>2875</td>\n",
       "      <td>2881</td>\n",
       "      <td>2973</td>\n",
       "      <td>2740</td>\n",
       "      <td>2959</td>\n",
       "      <td>2964</td>\n",
       "    </tr>\n",
       "  </tbody>\n",
       "</table>\n",
       "<p>4 rows × 24 columns</p>\n",
       "</div>"
      ],
      "text/plain": [
       "        release_date production_budget domestic_gross worldwide_gross Genre  \\\n",
       "count           2974              2974           2974            2974  2974   \n",
       "unique           733               276           1596            1658    20   \n",
       "top     Mar 27, 2015        $5,000,000             $0    $385,997,896    18   \n",
       "freq              68               166            114              65   733   \n",
       "\n",
       "       Action Adventure Animation Comedy  Crime  ... History Horror  Music  \\\n",
       "count    2974      2974      2974   2974   2974  ...    2974   2974   2974   \n",
       "unique      2         2         2      2      2  ...       2      2      2   \n",
       "top     False     False     False  False  False  ...   False  False  False   \n",
       "freq     2600      2825      2905   2567   2859  ...    2946   2717   2963   \n",
       "\n",
       "       Mystery Romance  SciFi TV_Movie Thriller    War Western  \n",
       "count     2974    2974   2974     2974     2974   2974    2974  \n",
       "unique       2       2      2        2        2      2       2  \n",
       "top      False   False  False    False    False  False   False  \n",
       "freq      2945    2875   2881     2973     2740   2959    2964  \n",
       "\n",
       "[4 rows x 24 columns]"
      ]
     },
     "execution_count": 68,
     "metadata": {},
     "output_type": "execute_result"
    }
   ],
   "source": [
    "final_df.describe()"
   ]
  },
  {
   "cell_type": "code",
   "execution_count": null,
   "metadata": {},
   "outputs": [],
   "source": []
  }
 ],
 "metadata": {
  "kernelspec": {
   "display_name": "Python 3",
   "language": "python",
   "name": "python3"
  },
  "language_info": {
   "codemirror_mode": {
    "name": "ipython",
    "version": 3
   },
   "file_extension": ".py",
   "mimetype": "text/x-python",
   "name": "python",
   "nbconvert_exporter": "python",
   "pygments_lexer": "ipython3",
   "version": "3.8.5"
  }
 },
 "nbformat": 4,
 "nbformat_minor": 2
}
