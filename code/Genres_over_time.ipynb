{
 "cells": [
  {
   "cell_type": "code",
   "execution_count": 1,
   "metadata": {},
   "outputs": [],
   "source": [
    "import numpy as np\n",
    "import pandas as pd\n",
    "import matplotlib.pyplot as plt\n",
    "import scipy.stats as stats\n",
    "import sqlite3\n",
    "\n",
    "%matplotlib inline\n",
    "#bommovies dataframe this is bad data\n",
    "bom_movies_df = pd.read_csv('../data/bom.movie_gross.csv.gz')\n",
    "#imbd dataframe\n",
    "con = sqlite3.connect('../data/im.db') \n",
    "cursor = con.cursor()\n",
    "imdb_schema_df = pd.read_sql('''\n",
    "SELECT \n",
    "    *\n",
    "FROM\n",
    "    sqlite_master\n",
    "''', con)   \n",
    "#imdb directors df\n",
    "directors_df = pd.read_sql('''select * from directors''',con)\n",
    "#imdb writers df\n",
    "writers_df = pd.read_sql('''select * from writers''',con)\n",
    "#imdb know for df\n",
    "known_for_df = pd.read_sql('''select * from known_for''',con)\n",
    "#imdb principals df\n",
    "principals_df = pd.read_sql('''select * from principals''',con)\n",
    "#imdb persons df\n",
    "persons_df = pd.read_sql('''select * from persons''',con)\n",
    "#imdb movie basics df\n",
    "movie_basics_df = pd.read_sql('''select * from movie_basics''',con)\n",
    "#imdb movie ratings df\n",
    "movie_ratings_df = pd.read_sql('''select * from movie_ratings''',con)\n",
    "#imdb movie akas df\n",
    "movie_akas_df = pd.read_sql('''select * from movie_akas''',con)\n",
    "#rotten tomatoes movies df this is bad data\n",
    "rt_movies_df = pd.read_csv('../data/rt.movie_info.tsv.gz', \n",
    "                               sep='\\t') # sep='\\t' needs to be specified since is a .tsv file\n",
    "#rotten tomatoes reviews df this is bad data\n",
    "rt_reviews_df = pd.read_csv('../data/rt.reviews.tsv.gz', \n",
    "                                sep='\\t', # sep='\\t' needs to be specified since is a .tsv file\n",
    "                                encoding='unicode_escape') # using default utf-8 encoding ran into issues with this file\n",
    "# TheMovieDB movie information table\n",
    "tmdb_movies_df = pd.read_csv('../data/tmdb.movies.csv.gz')\n",
    "# The Numbers movie information table\n",
    "tn_movies_df = pd.read_csv('../data/tn.movie_budgets.csv.gz')"
   ]
  },
  {
   "cell_type": "code",
   "execution_count": 2,
   "metadata": {
    "scrolled": false
   },
   "outputs": [
    {
     "name": "stdout",
     "output_type": "stream",
     "text": [
      "<class 'pandas.core.frame.DataFrame'>\n",
      "RangeIndex: 5782 entries, 0 to 5781\n",
      "Data columns (total 6 columns):\n",
      " #   Column             Non-Null Count  Dtype \n",
      "---  ------             --------------  ----- \n",
      " 0   id                 5782 non-null   int64 \n",
      " 1   release_date       5782 non-null   object\n",
      " 2   movie              5782 non-null   object\n",
      " 3   production_budget  5782 non-null   object\n",
      " 4   domestic_gross     5782 non-null   object\n",
      " 5   worldwide_gross    5782 non-null   object\n",
      "dtypes: int64(1), object(5)\n",
      "memory usage: 271.2+ KB\n"
     ]
    }
   ],
   "source": [
    "tn_movies_df.info() #  create ROI metric"
   ]
  },
  {
   "cell_type": "code",
   "execution_count": 3,
   "metadata": {},
   "outputs": [],
   "source": [
    "tmdb_movies_df = tmdb_movies_df.set_index('id') #setting indexs and dropping columns that are not relevant "
   ]
  },
  {
   "cell_type": "code",
   "execution_count": 4,
   "metadata": {},
   "outputs": [],
   "source": [
    "movie_basics_df = movie_basics_df.set_index('movie_id')"
   ]
  },
  {
   "cell_type": "code",
   "execution_count": 5,
   "metadata": {},
   "outputs": [],
   "source": [
    "tmdb_movies_df = tmdb_movies_df.drop('original_language', axis=1)"
   ]
  },
  {
   "cell_type": "code",
   "execution_count": 6,
   "metadata": {},
   "outputs": [],
   "source": [
    "tmdb_movies_df = tmdb_movies_df.drop('title', axis=1)"
   ]
  },
  {
   "cell_type": "code",
   "execution_count": 7,
   "metadata": {},
   "outputs": [],
   "source": [
    "tmdb_movies_df = tmdb_movies_df.drop('Unnamed: 0', axis=1)"
   ]
  },
  {
   "cell_type": "code",
   "execution_count": 8,
   "metadata": {},
   "outputs": [],
   "source": [
    "tmdb_movies_df = tmdb_movies_df.drop('vote_count', axis=1)"
   ]
  },
  {
   "cell_type": "code",
   "execution_count": 9,
   "metadata": {},
   "outputs": [],
   "source": [
    "tmdb_movies_df = tmdb_movies_df.drop('popularity', axis=1)"
   ]
  },
  {
   "cell_type": "code",
   "execution_count": 10,
   "metadata": {},
   "outputs": [],
   "source": [
    "tmdb_movies_df = tmdb_movies_df.drop('vote_average', axis=1)"
   ]
  },
  {
   "cell_type": "code",
   "execution_count": 11,
   "metadata": {},
   "outputs": [],
   "source": [
    "movie_basics_df = movie_basics_df.drop('runtime_minutes', axis=1)"
   ]
  },
  {
   "cell_type": "code",
   "execution_count": 12,
   "metadata": {},
   "outputs": [],
   "source": [
    "movie_basics_df = movie_basics_df.drop('original_title', axis=1)"
   ]
  },
  {
   "cell_type": "code",
   "execution_count": 13,
   "metadata": {},
   "outputs": [],
   "source": [
    "tmdb_movies_df['release_date'] = pd.to_datetime(tmdb_movies_df['release_date'], format = '%Y%') "
   ]
  },
  {
   "cell_type": "code",
   "execution_count": 14,
   "metadata": {},
   "outputs": [],
   "source": [
    "tmdb_movies_df['year'] = tmdb_movies_df['release_date'].dt.year"
   ]
  },
  {
   "cell_type": "code",
   "execution_count": 15,
   "metadata": {},
   "outputs": [],
   "source": [
    "tmdb_movies_df = tmdb_movies_df.drop('release_date', axis=1)"
   ]
  },
  {
   "cell_type": "code",
   "execution_count": 16,
   "metadata": {},
   "outputs": [],
   "source": [
    "tmdb_movies_df = tmdb_movies_df.set_index('original_title')"
   ]
  },
  {
   "cell_type": "code",
   "execution_count": 17,
   "metadata": {},
   "outputs": [],
   "source": [
    "movie_basics_df = movie_basics_df.set_index('primary_title')"
   ]
  },
  {
   "cell_type": "code",
   "execution_count": 18,
   "metadata": {},
   "outputs": [],
   "source": [
    "tn_movies_df = tn_movies_df.set_index('movie')"
   ]
  },
  {
   "cell_type": "code",
   "execution_count": 19,
   "metadata": {},
   "outputs": [],
   "source": [
    "tn_movies_df = tn_movies_df.drop('id', axis = 1)"
   ]
  },
  {
   "cell_type": "code",
   "execution_count": 20,
   "metadata": {},
   "outputs": [],
   "source": [
    "genre_df = movie_basics_df.join(tmdb_movies_df, how = 'inner') #joining genre databases"
   ]
  },
  {
   "cell_type": "code",
   "execution_count": 21,
   "metadata": {},
   "outputs": [],
   "source": [
    "final_df = genre_df.join(tn_movies_df, how='inner') #joining genre databases with the numbers database aka money"
   ]
  },
  {
   "cell_type": "code",
   "execution_count": 22,
   "metadata": {},
   "outputs": [],
   "source": [
    "final_df = final_df.drop('year', axis=1) #dropping duplicate dates"
   ]
  },
  {
   "cell_type": "code",
   "execution_count": 23,
   "metadata": {},
   "outputs": [],
   "source": [
    "final_df = final_df.drop('start_year', axis=1)"
   ]
  },
  {
   "cell_type": "code",
   "execution_count": 24,
   "metadata": {},
   "outputs": [],
   "source": [
    "final_df = final_df[final_df.worldwide_gross != '$0'] #dropping worldwide gross values that equal 0"
   ]
  },
  {
   "cell_type": "code",
   "execution_count": 25,
   "metadata": {},
   "outputs": [],
   "source": [
    "final_df = final_df.dropna() #dropping empty genre values"
   ]
  },
  {
   "cell_type": "code",
   "execution_count": 26,
   "metadata": {},
   "outputs": [],
   "source": [
    "final_df = final_df.drop_duplicates() #dropping exact duplicates from df, still need to merge or drop duplicates that are not exact"
   ]
  },
  {
   "cell_type": "code",
   "execution_count": 27,
   "metadata": {},
   "outputs": [],
   "source": [
    "final_df['genre_ids'] = final_df[\"genre_ids\"].str.split(\",\" , n = 1, expand = False)"
   ]
  },
  {
   "cell_type": "code",
   "execution_count": 28,
   "metadata": {},
   "outputs": [],
   "source": [
    "final_df = final_df.drop('genres', axis=1) # dropping genres column and using genre_ids as that one seems to place the most relevant genre first"
   ]
  },
  {
   "cell_type": "code",
   "execution_count": 29,
   "metadata": {},
   "outputs": [],
   "source": [
    "final_df['Genre'] = final_df.genre_ids.apply(lambda x: x[0])"
   ]
  },
  {
   "cell_type": "code",
   "execution_count": 30,
   "metadata": {},
   "outputs": [],
   "source": [
    "final_df['Genre'].replace(regex=True, inplace=True, to_replace=r'[^0-9.\\-]',\n",
    "value=r'') #cleaning the new Genres tab"
   ]
  },
  {
   "cell_type": "code",
   "execution_count": 31,
   "metadata": {},
   "outputs": [],
   "source": [
    "final_df = final_df.drop('genre_ids', axis =1)"
   ]
  },
  {
   "cell_type": "code",
   "execution_count": 32,
   "metadata": {},
   "outputs": [
    {
     "name": "stdout",
     "output_type": "stream",
     "text": [
      "<class 'pandas.core.frame.DataFrame'>\n",
      "Index: 2974 entries, 10 Cloverfield Lane to xXx: Return of Xander Cage\n",
      "Data columns (total 5 columns):\n",
      " #   Column             Non-Null Count  Dtype \n",
      "---  ------             --------------  ----- \n",
      " 0   release_date       2974 non-null   object\n",
      " 1   production_budget  2974 non-null   object\n",
      " 2   domestic_gross     2974 non-null   object\n",
      " 3   worldwide_gross    2974 non-null   object\n",
      " 4   Genre              2974 non-null   object\n",
      "dtypes: object(5)\n",
      "memory usage: 139.4+ KB\n"
     ]
    }
   ],
   "source": [
    "final_df.info()"
   ]
  },
  {
   "cell_type": "code",
   "execution_count": 33,
   "metadata": {},
   "outputs": [],
   "source": [
    "final_df['Action'] = final_df['Genre'].isin(['28'])"
   ]
  },
  {
   "cell_type": "code",
   "execution_count": 34,
   "metadata": {},
   "outputs": [],
   "source": [
    "final_df['Adventure'] = final_df['Genre'].isin(['12'])"
   ]
  },
  {
   "cell_type": "code",
   "execution_count": 35,
   "metadata": {},
   "outputs": [],
   "source": [
    "final_df['Animation'] = final_df['Genre'].isin(['16'])"
   ]
  },
  {
   "cell_type": "code",
   "execution_count": 36,
   "metadata": {},
   "outputs": [],
   "source": [
    "final_df['Comedy'] = final_df['Genre'].isin(['35'])"
   ]
  },
  {
   "cell_type": "code",
   "execution_count": 37,
   "metadata": {},
   "outputs": [],
   "source": [
    "final_df['Crime'] = final_df['Genre'].isin(['80'])"
   ]
  },
  {
   "cell_type": "code",
   "execution_count": 38,
   "metadata": {},
   "outputs": [],
   "source": [
    "final_df['Documentary'] = final_df['Genre'].isin(['99'])"
   ]
  },
  {
   "cell_type": "code",
   "execution_count": 39,
   "metadata": {},
   "outputs": [],
   "source": [
    "final_df['Drama'] = final_df['Genre'].isin(['18'])"
   ]
  },
  {
   "cell_type": "code",
   "execution_count": 40,
   "metadata": {},
   "outputs": [],
   "source": [
    "final_df['Family'] = final_df['Genre'].isin(['10751'])"
   ]
  },
  {
   "cell_type": "code",
   "execution_count": 41,
   "metadata": {},
   "outputs": [],
   "source": [
    "final_df['Fantasy'] = final_df['Genre'].isin(['14'])"
   ]
  },
  {
   "cell_type": "code",
   "execution_count": 42,
   "metadata": {},
   "outputs": [],
   "source": [
    "final_df['History'] = final_df['Genre'].isin(['36'])"
   ]
  },
  {
   "cell_type": "code",
   "execution_count": 43,
   "metadata": {},
   "outputs": [],
   "source": [
    "final_df['Horror'] = final_df['Genre'].isin(['27'])"
   ]
  },
  {
   "cell_type": "code",
   "execution_count": 44,
   "metadata": {},
   "outputs": [],
   "source": [
    "final_df['Mystery'] = final_df['Genre'].isin(['9648'])"
   ]
  },
  {
   "cell_type": "code",
   "execution_count": 45,
   "metadata": {},
   "outputs": [],
   "source": [
    "final_df['Music'] = final_df['Genre'].isin(['10402'])"
   ]
  },
  {
   "cell_type": "code",
   "execution_count": 46,
   "metadata": {},
   "outputs": [],
   "source": [
    "final_df['Romance'] = final_df['Genre'].isin(['10749'])"
   ]
  },
  {
   "cell_type": "code",
   "execution_count": 47,
   "metadata": {},
   "outputs": [],
   "source": [
    "final_df['SciFi'] = final_df['Genre'].isin(['878'])"
   ]
  },
  {
   "cell_type": "code",
   "execution_count": 48,
   "metadata": {},
   "outputs": [],
   "source": [
    "final_df['TV_Movie'] = final_df['Genre'].isin(['10770'])"
   ]
  },
  {
   "cell_type": "code",
   "execution_count": 49,
   "metadata": {},
   "outputs": [],
   "source": [
    "final_df['Thriller'] = final_df['Genre'].isin(['53'])"
   ]
  },
  {
   "cell_type": "code",
   "execution_count": 50,
   "metadata": {},
   "outputs": [],
   "source": [
    "final_df['War'] = final_df['Genre'].isin(['10752'])"
   ]
  },
  {
   "cell_type": "code",
   "execution_count": 51,
   "metadata": {},
   "outputs": [],
   "source": [
    "final_df['Western'] = final_df['Genre'].isin(['37'])"
   ]
  },
  {
   "cell_type": "code",
   "execution_count": 52,
   "metadata": {},
   "outputs": [],
   "source": [
    "final_df['production_budget'].replace(regex=True, inplace=True, to_replace=r'[^0-9.\\-]',\n",
    "value=r'') #cleaning buget, domestic, and worldwide"
   ]
  },
  {
   "cell_type": "code",
   "execution_count": 53,
   "metadata": {},
   "outputs": [],
   "source": [
    "final_df['domestic_gross'].replace(regex=True, inplace=True, to_replace=r'[^0-9.\\-]',\n",
    "value=r'') #cleaning buget, domestic, and worldwide"
   ]
  },
  {
   "cell_type": "code",
   "execution_count": 54,
   "metadata": {},
   "outputs": [],
   "source": [
    "final_df['worldwide_gross'].replace(regex=True, inplace=True, to_replace=r'[^0-9.\\-]',\n",
    "value=r'') #cleaning buget, domestic, and worldwide"
   ]
  },
  {
   "cell_type": "code",
   "execution_count": 55,
   "metadata": {},
   "outputs": [],
   "source": [
    "final_df = final_df.astype({'production_budget':'float'}) # converting objects to floats"
   ]
  },
  {
   "cell_type": "code",
   "execution_count": 56,
   "metadata": {},
   "outputs": [],
   "source": [
    "final_df = final_df.astype({'domestic_gross':'float'})# converting objects to floats"
   ]
  },
  {
   "cell_type": "code",
   "execution_count": 57,
   "metadata": {},
   "outputs": [],
   "source": [
    "final_df = final_df.astype({'worldwide_gross':'float'})# converting objects to floats"
   ]
  },
  {
   "cell_type": "code",
   "execution_count": 58,
   "metadata": {},
   "outputs": [],
   "source": [
    "final_df['Profit'] = final_df['worldwide_gross'] - final_df['production_budget'] # creating profit columns"
   ]
  },
  {
   "cell_type": "code",
   "execution_count": 59,
   "metadata": {},
   "outputs": [],
   "source": [
    "final_df['ROI'] = final_df['Profit'] / final_df['production_budget'] * 100"
   ]
  },
  {
   "cell_type": "code",
   "execution_count": 60,
   "metadata": {},
   "outputs": [
    {
     "data": {
      "text/html": [
       "<div>\n",
       "<style scoped>\n",
       "    .dataframe tbody tr th:only-of-type {\n",
       "        vertical-align: middle;\n",
       "    }\n",
       "\n",
       "    .dataframe tbody tr th {\n",
       "        vertical-align: top;\n",
       "    }\n",
       "\n",
       "    .dataframe thead th {\n",
       "        text-align: right;\n",
       "    }\n",
       "</style>\n",
       "<table border=\"1\" class=\"dataframe\">\n",
       "  <thead>\n",
       "    <tr style=\"text-align: right;\">\n",
       "      <th></th>\n",
       "      <th>release_date</th>\n",
       "      <th>production_budget</th>\n",
       "      <th>domestic_gross</th>\n",
       "      <th>worldwide_gross</th>\n",
       "      <th>Genre</th>\n",
       "      <th>Action</th>\n",
       "      <th>Adventure</th>\n",
       "      <th>Animation</th>\n",
       "      <th>Comedy</th>\n",
       "      <th>Crime</th>\n",
       "      <th>...</th>\n",
       "      <th>Mystery</th>\n",
       "      <th>Music</th>\n",
       "      <th>Romance</th>\n",
       "      <th>SciFi</th>\n",
       "      <th>TV_Movie</th>\n",
       "      <th>Thriller</th>\n",
       "      <th>War</th>\n",
       "      <th>Western</th>\n",
       "      <th>Profit</th>\n",
       "      <th>ROI</th>\n",
       "    </tr>\n",
       "  </thead>\n",
       "  <tbody>\n",
       "    <tr>\n",
       "      <th>10 Cloverfield Lane</th>\n",
       "      <td>Mar 11, 2016</td>\n",
       "      <td>5000000.0</td>\n",
       "      <td>72082999.0</td>\n",
       "      <td>108286422.0</td>\n",
       "      <td>53</td>\n",
       "      <td>False</td>\n",
       "      <td>False</td>\n",
       "      <td>False</td>\n",
       "      <td>False</td>\n",
       "      <td>False</td>\n",
       "      <td>...</td>\n",
       "      <td>False</td>\n",
       "      <td>False</td>\n",
       "      <td>False</td>\n",
       "      <td>False</td>\n",
       "      <td>False</td>\n",
       "      <td>True</td>\n",
       "      <td>False</td>\n",
       "      <td>False</td>\n",
       "      <td>103286422.0</td>\n",
       "      <td>2065.728440</td>\n",
       "    </tr>\n",
       "    <tr>\n",
       "      <th>10 Days in a Madhouse</th>\n",
       "      <td>Nov 11, 2015</td>\n",
       "      <td>12000000.0</td>\n",
       "      <td>14616.0</td>\n",
       "      <td>14616.0</td>\n",
       "      <td>18</td>\n",
       "      <td>False</td>\n",
       "      <td>False</td>\n",
       "      <td>False</td>\n",
       "      <td>False</td>\n",
       "      <td>False</td>\n",
       "      <td>...</td>\n",
       "      <td>False</td>\n",
       "      <td>False</td>\n",
       "      <td>False</td>\n",
       "      <td>False</td>\n",
       "      <td>False</td>\n",
       "      <td>False</td>\n",
       "      <td>False</td>\n",
       "      <td>False</td>\n",
       "      <td>-11985384.0</td>\n",
       "      <td>-99.878200</td>\n",
       "    </tr>\n",
       "    <tr>\n",
       "      <th>12 Strong</th>\n",
       "      <td>Jan 19, 2018</td>\n",
       "      <td>35000000.0</td>\n",
       "      <td>45819713.0</td>\n",
       "      <td>71118378.0</td>\n",
       "      <td>10752</td>\n",
       "      <td>False</td>\n",
       "      <td>False</td>\n",
       "      <td>False</td>\n",
       "      <td>False</td>\n",
       "      <td>False</td>\n",
       "      <td>...</td>\n",
       "      <td>False</td>\n",
       "      <td>False</td>\n",
       "      <td>False</td>\n",
       "      <td>False</td>\n",
       "      <td>False</td>\n",
       "      <td>False</td>\n",
       "      <td>True</td>\n",
       "      <td>False</td>\n",
       "      <td>36118378.0</td>\n",
       "      <td>103.195366</td>\n",
       "    </tr>\n",
       "    <tr>\n",
       "      <th>12 Years a Slave</th>\n",
       "      <td>Oct 18, 2013</td>\n",
       "      <td>20000000.0</td>\n",
       "      <td>56671993.0</td>\n",
       "      <td>181025343.0</td>\n",
       "      <td>18</td>\n",
       "      <td>False</td>\n",
       "      <td>False</td>\n",
       "      <td>False</td>\n",
       "      <td>False</td>\n",
       "      <td>False</td>\n",
       "      <td>...</td>\n",
       "      <td>False</td>\n",
       "      <td>False</td>\n",
       "      <td>False</td>\n",
       "      <td>False</td>\n",
       "      <td>False</td>\n",
       "      <td>False</td>\n",
       "      <td>False</td>\n",
       "      <td>False</td>\n",
       "      <td>161025343.0</td>\n",
       "      <td>805.126715</td>\n",
       "    </tr>\n",
       "    <tr>\n",
       "      <th>127 Hours</th>\n",
       "      <td>Nov 5, 2010</td>\n",
       "      <td>18000000.0</td>\n",
       "      <td>18335230.0</td>\n",
       "      <td>60217171.0</td>\n",
       "      <td>12</td>\n",
       "      <td>False</td>\n",
       "      <td>True</td>\n",
       "      <td>False</td>\n",
       "      <td>False</td>\n",
       "      <td>False</td>\n",
       "      <td>...</td>\n",
       "      <td>False</td>\n",
       "      <td>False</td>\n",
       "      <td>False</td>\n",
       "      <td>False</td>\n",
       "      <td>False</td>\n",
       "      <td>False</td>\n",
       "      <td>False</td>\n",
       "      <td>False</td>\n",
       "      <td>42217171.0</td>\n",
       "      <td>234.539839</td>\n",
       "    </tr>\n",
       "  </tbody>\n",
       "</table>\n",
       "<p>5 rows × 26 columns</p>\n",
       "</div>"
      ],
      "text/plain": [
       "                       release_date  production_budget  domestic_gross  \\\n",
       "10 Cloverfield Lane    Mar 11, 2016          5000000.0      72082999.0   \n",
       "10 Days in a Madhouse  Nov 11, 2015         12000000.0         14616.0   \n",
       "12 Strong              Jan 19, 2018         35000000.0      45819713.0   \n",
       "12 Years a Slave       Oct 18, 2013         20000000.0      56671993.0   \n",
       "127 Hours               Nov 5, 2010         18000000.0      18335230.0   \n",
       "\n",
       "                       worldwide_gross  Genre  Action  Adventure  Animation  \\\n",
       "10 Cloverfield Lane        108286422.0     53   False      False      False   \n",
       "10 Days in a Madhouse          14616.0     18   False      False      False   \n",
       "12 Strong                   71118378.0  10752   False      False      False   \n",
       "12 Years a Slave           181025343.0     18   False      False      False   \n",
       "127 Hours                   60217171.0     12   False       True      False   \n",
       "\n",
       "                       Comedy  Crime  ...  Mystery  Music  Romance  SciFi  \\\n",
       "10 Cloverfield Lane     False  False  ...    False  False    False  False   \n",
       "10 Days in a Madhouse   False  False  ...    False  False    False  False   \n",
       "12 Strong               False  False  ...    False  False    False  False   \n",
       "12 Years a Slave        False  False  ...    False  False    False  False   \n",
       "127 Hours               False  False  ...    False  False    False  False   \n",
       "\n",
       "                       TV_Movie  Thriller    War  Western       Profit  \\\n",
       "10 Cloverfield Lane       False      True  False    False  103286422.0   \n",
       "10 Days in a Madhouse     False     False  False    False  -11985384.0   \n",
       "12 Strong                 False     False   True    False   36118378.0   \n",
       "12 Years a Slave          False     False  False    False  161025343.0   \n",
       "127 Hours                 False     False  False    False   42217171.0   \n",
       "\n",
       "                               ROI  \n",
       "10 Cloverfield Lane    2065.728440  \n",
       "10 Days in a Madhouse   -99.878200  \n",
       "12 Strong               103.195366  \n",
       "12 Years a Slave        805.126715  \n",
       "127 Hours               234.539839  \n",
       "\n",
       "[5 rows x 26 columns]"
      ]
     },
     "execution_count": 60,
     "metadata": {},
     "output_type": "execute_result"
    }
   ],
   "source": [
    "final_df.head()"
   ]
  },
  {
   "cell_type": "code",
   "execution_count": 61,
   "metadata": {},
   "outputs": [],
   "source": [
    "ActAdv_df = final_df.loc[:, ['ROI', 'Profit', 'release_date', 'production_budget', 'domestic_gross', 'worldwide_gross', \n",
    "                             \"Action\",\"Adventure\",\"War\", 'Western']] #creating ActAdv Df"
   ]
  },
  {
   "cell_type": "code",
   "execution_count": 62,
   "metadata": {},
   "outputs": [],
   "source": [
    "ActAdv_df['ActAdv'] = ActAdv_df[\"Action\"] | ActAdv_df[\"Adventure\"] | ActAdv_df[\"War\"] | ActAdv_df['Western'] #merge columns"
   ]
  },
  {
   "cell_type": "code",
   "execution_count": 63,
   "metadata": {},
   "outputs": [],
   "source": [
    "ActAdv_df = ActAdv_df.drop('Action', axis=1) #drop redunant columns"
   ]
  },
  {
   "cell_type": "code",
   "execution_count": 64,
   "metadata": {},
   "outputs": [],
   "source": [
    "ActAdv_df = ActAdv_df.drop('War', axis=1)"
   ]
  },
  {
   "cell_type": "code",
   "execution_count": 65,
   "metadata": {},
   "outputs": [],
   "source": [
    "ActAdv_df = ActAdv_df.drop('Western', axis=1)"
   ]
  },
  {
   "cell_type": "code",
   "execution_count": 66,
   "metadata": {},
   "outputs": [],
   "source": [
    "ActAdv_df = ActAdv_df.drop('Adventure', axis=1)"
   ]
  },
  {
   "cell_type": "code",
   "execution_count": 67,
   "metadata": {},
   "outputs": [],
   "source": [
    "ActAdv_df = ActAdv_df.loc[ActAdv_df.ActAdv, :] #droping all rows not in ActAdv"
   ]
  },
  {
   "cell_type": "code",
   "execution_count": 68,
   "metadata": {},
   "outputs": [],
   "source": [
    "Drama_df = final_df.loc[:, ['ROI', 'Profit','release_date', 'production_budget', 'domestic_gross', 'worldwide_gross', \n",
    "                             'Drama']] #creating Drama Df"
   ]
  },
  {
   "cell_type": "code",
   "execution_count": 69,
   "metadata": {},
   "outputs": [],
   "source": [
    "Drama_df = Drama_df.loc[Drama_df.Drama, :]"
   ]
  },
  {
   "cell_type": "code",
   "execution_count": 70,
   "metadata": {},
   "outputs": [],
   "source": [
    "Comedy_df = final_df.loc[:, ['ROI', 'Profit','release_date', 'production_budget', 'domestic_gross', 'worldwide_gross', \n",
    "                             'Comedy']] #creating comedy Df"
   ]
  },
  {
   "cell_type": "code",
   "execution_count": 71,
   "metadata": {},
   "outputs": [],
   "source": [
    "Comedy_df = Comedy_df.loc[Comedy_df.Comedy, :]"
   ]
  },
  {
   "cell_type": "code",
   "execution_count": 72,
   "metadata": {},
   "outputs": [],
   "source": [
    "Horror_df = final_df.loc[:, ['ROI', 'Profit','release_date', 'production_budget', 'domestic_gross', 'worldwide_gross', \n",
    "                             'Horror']] #creating Horror Df"
   ]
  },
  {
   "cell_type": "code",
   "execution_count": 73,
   "metadata": {},
   "outputs": [],
   "source": [
    "Horror_df = Horror_df.loc[Horror_df.Horror, :]"
   ]
  },
  {
   "cell_type": "code",
   "execution_count": 74,
   "metadata": {},
   "outputs": [],
   "source": [
    "Thriller_df = final_df.loc[:, ['ROI', 'Profit','release_date', 'production_budget', 'domestic_gross', 'worldwide_gross', \n",
    "                             'Thriller', 'Mystery']] #creating thriller Df"
   ]
  },
  {
   "cell_type": "code",
   "execution_count": 75,
   "metadata": {},
   "outputs": [],
   "source": [
    "Thriller_df['Thrill'] = Thriller_df[\"Thriller\"] | Thriller_df[\"Mystery\"]"
   ]
  },
  {
   "cell_type": "code",
   "execution_count": 76,
   "metadata": {},
   "outputs": [],
   "source": [
    "Thriller_df = Thriller_df.loc[Thriller_df.Thrill, :]"
   ]
  },
  {
   "cell_type": "code",
   "execution_count": 77,
   "metadata": {},
   "outputs": [],
   "source": [
    "Thriller_df = Thriller_df.drop('Thriller', axis=1) #drop redunant columns"
   ]
  },
  {
   "cell_type": "code",
   "execution_count": 78,
   "metadata": {},
   "outputs": [],
   "source": [
    "Thriller_df = Thriller_df.drop('Mystery', axis=1) #drop redunant columns"
   ]
  },
  {
   "cell_type": "code",
   "execution_count": 79,
   "metadata": {},
   "outputs": [],
   "source": [
    "Crime_df = final_df.loc[:, ['ROI', 'Profit','release_date', 'production_budget', 'domestic_gross', 'worldwide_gross', \n",
    "                             'Crime']] #creating Crime Df"
   ]
  },
  {
   "cell_type": "code",
   "execution_count": 80,
   "metadata": {},
   "outputs": [],
   "source": [
    "Crime_df = Crime_df.loc[Crime_df.Crime, :]"
   ]
  },
  {
   "cell_type": "code",
   "execution_count": 81,
   "metadata": {},
   "outputs": [],
   "source": [
    "Docu_df = final_df.loc[:, ['ROI', 'Profit','release_date', 'production_budget', 'domestic_gross', 'worldwide_gross', \n",
    "                             'Documentary', 'History']] #creating Docu Df"
   ]
  },
  {
   "cell_type": "code",
   "execution_count": 82,
   "metadata": {},
   "outputs": [],
   "source": [
    "Docu_df['Docu'] = Docu_df[\"Documentary\"] | Docu_df[\"History\"]"
   ]
  },
  {
   "cell_type": "code",
   "execution_count": 83,
   "metadata": {},
   "outputs": [],
   "source": [
    "Docu_df = Docu_df.drop('Documentary', axis=1) #drop redunant columns"
   ]
  },
  {
   "cell_type": "code",
   "execution_count": 84,
   "metadata": {},
   "outputs": [],
   "source": [
    "Docu_df = Docu_df.drop('History', axis=1) #drop redunant columns"
   ]
  },
  {
   "cell_type": "code",
   "execution_count": 85,
   "metadata": {},
   "outputs": [],
   "source": [
    "Docu_df = Docu_df.loc[Docu_df.Docu, :]"
   ]
  },
  {
   "cell_type": "code",
   "execution_count": 86,
   "metadata": {},
   "outputs": [],
   "source": [
    "Rom_df = final_df.loc[:, ['ROI', 'Profit','release_date', 'production_budget', 'domestic_gross', 'worldwide_gross', \n",
    "                             'Romance']] #creating Romance Df"
   ]
  },
  {
   "cell_type": "code",
   "execution_count": 87,
   "metadata": {},
   "outputs": [],
   "source": [
    "Rom_df = Rom_df.loc[Rom_df.Romance, :]"
   ]
  },
  {
   "cell_type": "code",
   "execution_count": 88,
   "metadata": {},
   "outputs": [],
   "source": [
    "SciFan_df = final_df.loc[:, ['ROI', 'Profit','release_date', 'production_budget', 'domestic_gross', 'worldwide_gross', \n",
    "                             'SciFi', 'Fantasy']] #creating Scifi Fantasy Df"
   ]
  },
  {
   "cell_type": "code",
   "execution_count": 89,
   "metadata": {},
   "outputs": [],
   "source": [
    "SciFan_df['SciFan'] = SciFan_df[\"SciFi\"] | SciFan_df[\"Fantasy\"]"
   ]
  },
  {
   "cell_type": "code",
   "execution_count": 90,
   "metadata": {},
   "outputs": [],
   "source": [
    "SciFan_df = SciFan_df.drop('Fantasy', axis=1) #drop redunant columns"
   ]
  },
  {
   "cell_type": "code",
   "execution_count": 91,
   "metadata": {},
   "outputs": [],
   "source": [
    "SciFan_df = SciFan_df.drop('SciFi', axis=1) #drop redunant columns"
   ]
  },
  {
   "cell_type": "code",
   "execution_count": 92,
   "metadata": {},
   "outputs": [],
   "source": [
    "SciFan_df = SciFan_df.loc[SciFan_df.SciFan, :]"
   ]
  },
  {
   "cell_type": "code",
   "execution_count": 93,
   "metadata": {},
   "outputs": [],
   "source": [
    "Fam_df = final_df.loc[:, ['ROI', 'Profit','release_date', 'production_budget', 'domestic_gross', 'worldwide_gross', \n",
    "                             'Animation', 'Family', 'Music']] #creating Family Df"
   ]
  },
  {
   "cell_type": "code",
   "execution_count": 94,
   "metadata": {},
   "outputs": [],
   "source": [
    "Fam_df['Fam'] = Fam_df[\"Animation\"] | Fam_df[\"Family\"] | Fam_df['Music']"
   ]
  },
  {
   "cell_type": "code",
   "execution_count": 95,
   "metadata": {},
   "outputs": [],
   "source": [
    "Fam_df = Fam_df.drop('Family', axis=1) #drop redunant columns"
   ]
  },
  {
   "cell_type": "code",
   "execution_count": 96,
   "metadata": {},
   "outputs": [],
   "source": [
    "Fam_df = Fam_df.drop('Music', axis=1) #drop redunant columns"
   ]
  },
  {
   "cell_type": "code",
   "execution_count": 97,
   "metadata": {},
   "outputs": [],
   "source": [
    "Fam_df = Fam_df.drop('Animation', axis=1) #drop redunant columns"
   ]
  },
  {
   "cell_type": "code",
   "execution_count": 98,
   "metadata": {},
   "outputs": [],
   "source": [
    "Fam_df = Fam_df.loc[Fam_df.Fam, :]"
   ]
  },
  {
   "cell_type": "code",
   "execution_count": 114,
   "metadata": {},
   "outputs": [
    {
     "data": {
      "text/plain": [
       "count     548.000000\n",
       "mean      184.057372\n",
       "std       341.501361\n",
       "min       -99.997400\n",
       "25%       -10.417533\n",
       "50%       100.461677\n",
       "75%       263.594136\n",
       "max      2617.924114\n",
       "Name: ROI, dtype: float64"
      ]
     },
     "execution_count": 114,
     "metadata": {},
     "output_type": "execute_result"
    }
   ],
   "source": [
    "ActAdv_df['ROI'].describe()"
   ]
  },
  {
   "cell_type": "code",
   "execution_count": 115,
   "metadata": {},
   "outputs": [
    {
     "data": {
      "text/plain": [
       "count     733.000000\n",
       "mean      421.262441\n",
       "std      1353.953233\n",
       "min       -99.878200\n",
       "25%       -48.023785\n",
       "50%        81.037490\n",
       "75%       306.539022\n",
       "max      9900.000000\n",
       "Name: ROI, dtype: float64"
      ]
     },
     "execution_count": 115,
     "metadata": {},
     "output_type": "execute_result"
    }
   ],
   "source": [
    "Drama_df['ROI'].describe()"
   ]
  },
  {
   "cell_type": "code",
   "execution_count": 116,
   "metadata": {},
   "outputs": [
    {
     "data": {
      "text/plain": [
       "count     407.000000\n",
       "mean      269.509312\n",
       "std       750.003623\n",
       "min       -99.878200\n",
       "25%       -22.018937\n",
       "50%       103.641000\n",
       "75%       253.261420\n",
       "max      5479.296120\n",
       "Name: ROI, dtype: float64"
      ]
     },
     "execution_count": 116,
     "metadata": {},
     "output_type": "execute_result"
    }
   ],
   "source": [
    "Comedy_df['ROI'].describe()"
   ]
  },
  {
   "cell_type": "code",
   "execution_count": 117,
   "metadata": {},
   "outputs": [
    {
     "data": {
      "text/plain": [
       "count      257.000000\n",
       "mean      1372.866856\n",
       "std       3698.182202\n",
       "min        -99.883429\n",
       "25%        -27.439268\n",
       "50%        160.182977\n",
       "75%       1184.816260\n",
       "max      41556.474000\n",
       "Name: ROI, dtype: float64"
      ]
     },
     "execution_count": 117,
     "metadata": {},
     "output_type": "execute_result"
    }
   ],
   "source": [
    "Horror_df['ROI'].describe()"
   ]
  },
  {
   "cell_type": "code",
   "execution_count": 118,
   "metadata": {},
   "outputs": [
    {
     "data": {
      "text/plain": [
       "count      263.000000\n",
       "mean       461.020040\n",
       "std       1605.209264\n",
       "min        -99.986200\n",
       "25%        -55.817447\n",
       "50%         65.420546\n",
       "75%        366.012800\n",
       "max      21438.461538\n",
       "Name: ROI, dtype: float64"
      ]
     },
     "execution_count": 118,
     "metadata": {},
     "output_type": "execute_result"
    }
   ],
   "source": [
    "Thriller_df['ROI'].describe()"
   ]
  },
  {
   "cell_type": "code",
   "execution_count": 119,
   "metadata": {},
   "outputs": [
    {
     "data": {
      "text/plain": [
       "count     115.000000\n",
       "mean      108.434204\n",
       "std       208.833387\n",
       "min       -99.335886\n",
       "25%       -38.284622\n",
       "50%        69.701800\n",
       "75%       233.778014\n",
       "max      1234.932625\n",
       "Name: ROI, dtype: float64"
      ]
     },
     "execution_count": 119,
     "metadata": {},
     "output_type": "execute_result"
    }
   ],
   "source": [
    "Crime_df['ROI'].describe()"
   ]
  },
  {
   "cell_type": "code",
   "execution_count": 120,
   "metadata": {},
   "outputs": [
    {
     "data": {
      "text/plain": [
       "count     163.000000\n",
       "mean      171.481186\n",
       "std       760.848117\n",
       "min       -99.635600\n",
       "25%       -73.044292\n",
       "50%       -40.897943\n",
       "75%       141.376967\n",
       "max      6211.912000\n",
       "Name: ROI, dtype: float64"
      ]
     },
     "execution_count": 120,
     "metadata": {},
     "output_type": "execute_result"
    }
   ],
   "source": [
    "Docu_df['ROI'].describe()"
   ]
  },
  {
   "cell_type": "code",
   "execution_count": 121,
   "metadata": {},
   "outputs": [
    {
     "data": {
      "text/plain": [
       "count      99.000000\n",
       "mean      863.023300\n",
       "std      2144.601949\n",
       "min       -99.479092\n",
       "25%         0.431861\n",
       "50%       235.896254\n",
       "75%       462.685635\n",
       "max      8989.359138\n",
       "Name: ROI, dtype: float64"
      ]
     },
     "execution_count": 121,
     "metadata": {},
     "output_type": "execute_result"
    }
   ],
   "source": [
    "Rom_df['ROI'].describe()"
   ]
  },
  {
   "cell_type": "code",
   "execution_count": 122,
   "metadata": {},
   "outputs": [
    {
     "data": {
      "text/plain": [
       "count     169.000000\n",
       "mean     1776.223207\n",
       "std      3198.197799\n",
       "min       -99.784976\n",
       "25%        81.235867\n",
       "50%       196.921458\n",
       "75%      1079.569540\n",
       "max      8858.633600\n",
       "Name: ROI, dtype: float64"
      ]
     },
     "execution_count": 122,
     "metadata": {},
     "output_type": "execute_result"
    }
   ],
   "source": [
    "SciFan_df['ROI'].describe()"
   ]
  },
  {
   "cell_type": "code",
   "execution_count": 123,
   "metadata": {},
   "outputs": [
    {
     "data": {
      "text/plain": [
       "count     105.000000\n",
       "mean      401.822913\n",
       "std       941.729864\n",
       "min       -99.836209\n",
       "25%        37.427040\n",
       "50%       174.250506\n",
       "75%       412.745555\n",
       "max      6211.912000\n",
       "Name: ROI, dtype: float64"
      ]
     },
     "execution_count": 123,
     "metadata": {},
     "output_type": "execute_result"
    }
   ],
   "source": [
    "Fam_df['ROI'].describe()"
   ]
  },
  {
   "cell_type": "code",
   "execution_count": 101,
   "metadata": {},
   "outputs": [
    {
     "name": "stdout",
     "output_type": "stream",
     "text": [
      "<class 'pandas.core.frame.DataFrame'>\n",
      "Index: 2974 entries, 10 Cloverfield Lane to xXx: Return of Xander Cage\n",
      "Data columns (total 26 columns):\n",
      " #   Column             Non-Null Count  Dtype  \n",
      "---  ------             --------------  -----  \n",
      " 0   release_date       2974 non-null   object \n",
      " 1   production_budget  2974 non-null   float64\n",
      " 2   domestic_gross     2974 non-null   float64\n",
      " 3   worldwide_gross    2974 non-null   float64\n",
      " 4   Genre              2974 non-null   object \n",
      " 5   Action             2974 non-null   bool   \n",
      " 6   Adventure          2974 non-null   bool   \n",
      " 7   Animation          2974 non-null   bool   \n",
      " 8   Comedy             2974 non-null   bool   \n",
      " 9   Crime              2974 non-null   bool   \n",
      " 10  Documentary        2974 non-null   bool   \n",
      " 11  Drama              2974 non-null   bool   \n",
      " 12  Family             2974 non-null   bool   \n",
      " 13  Fantasy            2974 non-null   bool   \n",
      " 14  History            2974 non-null   bool   \n",
      " 15  Horror             2974 non-null   bool   \n",
      " 16  Mystery            2974 non-null   bool   \n",
      " 17  Music              2974 non-null   bool   \n",
      " 18  Romance            2974 non-null   bool   \n",
      " 19  SciFi              2974 non-null   bool   \n",
      " 20  TV_Movie           2974 non-null   bool   \n",
      " 21  Thriller           2974 non-null   bool   \n",
      " 22  War                2974 non-null   bool   \n",
      " 23  Western            2974 non-null   bool   \n",
      " 24  Profit             2974 non-null   float64\n",
      " 25  ROI                2974 non-null   float64\n",
      "dtypes: bool(19), float64(5), object(2)\n",
      "memory usage: 241.1+ KB\n"
     ]
    }
   ],
   "source": [
    "final_df.info()"
   ]
  },
  {
   "cell_type": "code",
   "execution_count": null,
   "metadata": {},
   "outputs": [],
   "source": []
  }
 ],
 "metadata": {
  "kernelspec": {
   "display_name": "Python 3",
   "language": "python",
   "name": "python3"
  },
  "language_info": {
   "codemirror_mode": {
    "name": "ipython",
    "version": 3
   },
   "file_extension": ".py",
   "mimetype": "text/x-python",
   "name": "python",
   "nbconvert_exporter": "python",
   "pygments_lexer": "ipython3",
   "version": "3.8.5"
  }
 },
 "nbformat": 4,
 "nbformat_minor": 2
}
